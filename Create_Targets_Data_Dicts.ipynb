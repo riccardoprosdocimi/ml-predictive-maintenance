{
  "nbformat": 4,
  "nbformat_minor": 0,
  "metadata": {
    "colab": {
      "provenance": [],
      "collapsed_sections": [
        "cv0k01eU-ufE",
        "RBo79pRa-uqy",
        "Nd-LEr7s-uv8",
        "v92HFaZ7-4Gk",
        "JTrKbVeL-WC1",
        "lXcOYL0QBGB1",
        "z5HiBSM-BGD2",
        "QYmIWptgBGGE",
        "ApIaZC8KBGIN",
        "t8gaeCXVBGKc",
        "kjdjsIhD-WE8",
        "J5hKxDcHBZp-",
        "pETWkZNZBZsG",
        "VqTM0ZxZBZuL",
        "cPPH0IQwBZwT",
        "I7MVCBmoBZy3"
      ]
    },
    "kernelspec": {
      "name": "python3",
      "display_name": "Python 3"
    },
    "language_info": {
      "name": "python"
    }
  },
  "cells": [
    {
      "cell_type": "code",
      "execution_count": null,
      "metadata": {
        "id": "Uq5b0Kp08OvR"
      },
      "outputs": [],
      "source": [
        "from google.colab import drive\n",
        "import os\n",
        "import json\n",
        "import pandas as pd\n",
        "from typing import Dict, List"
      ]
    },
    {
      "cell_type": "code",
      "source": [
        "pd.set_option('display.max_columns', None)"
      ],
      "metadata": {
        "id": "sfSl_SZ68RIT"
      },
      "execution_count": null,
      "outputs": []
    },
    {
      "cell_type": "markdown",
      "source": [
        "### 0. Load Preprocessed Data From Drive"
      ],
      "metadata": {
        "id": "EQPWbvqy8UoU"
      }
    },
    {
      "cell_type": "code",
      "source": [
        "drive.mount('/content/drive/')"
      ],
      "metadata": {
        "colab": {
          "base_uri": "https://localhost:8080/"
        },
        "id": "wB5hb3xg8RKy",
        "outputId": "c0933653-e535-4055-9458-5c1cc447b3a8"
      },
      "execution_count": null,
      "outputs": [
        {
          "output_type": "stream",
          "name": "stdout",
          "text": [
            "Mounted at /content/drive/\n"
          ]
        }
      ]
    },
    {
      "cell_type": "code",
      "source": [
        "# DATA_DIR = '/content/drive/My Drive/NEU/Graduate/CS_6140/Data/'\n",
        "DATA_DIR = '/content/drive/My Drive/CS6140_final_project/Data/'\n",
        "SAVE_DATA_DIR = os.path.join(DATA_DIR, 'targets_data/')\n",
        "PREPROCESSED_DATA_F = 'preprocessed_data_variable_hour_window_cols.csv'\n",
        "PREPROCESSED_DATA_LOC = os.path.join(DATA_DIR, PREPROCESSED_DATA_F)"
      ],
      "metadata": {
        "id": "gVyPqBSP8VZH"
      },
      "execution_count": null,
      "outputs": []
    },
    {
      "cell_type": "code",
      "source": [
        "df = pd.read_csv(\n",
        "    PREPROCESSED_DATA_LOC,\n",
        ")\n",
        "print(f\"- {format(len(df), ',')} total rows in df.\")\n",
        "df.head(3)"
      ],
      "metadata": {
        "colab": {
          "base_uri": "https://localhost:8080/",
          "height": 281
        },
        "id": "yX79TWpt8VbY",
        "outputId": "e65e4ab6-a0b7-41c9-b144-e15039d92c0d"
      },
      "execution_count": null,
      "outputs": [
        {
          "output_type": "stream",
          "name": "stdout",
          "text": [
            "- 876,100 total rows in df.\n"
          ]
        },
        {
          "output_type": "execute_result",
          "data": {
            "text/plain": [
              "              datetime  machineID        volt      rotate    pressure  \\\n",
              "0  2015-01-01 06:00:00          1  176.217853  418.504078  113.077935   \n",
              "1  2015-01-01 07:00:00          1  162.879223  402.747490   95.460525   \n",
              "2  2015-01-01 08:00:00          1  170.989902  527.349825   75.237905   \n",
              "\n",
              "   vibration  12_machineID_time_window  12_order_in_time_window  \\\n",
              "0  45.087686                         1                        1   \n",
              "1  43.413973                         1                        2   \n",
              "2  34.178847                         1                        3   \n",
              "\n",
              "  12_machine_example_ID       12_step_ID  24_machineID_time_window  \\\n",
              "0            (001, 001)  (001, 001, 001)                         1   \n",
              "1            (001, 001)  (001, 001, 002)                         1   \n",
              "2            (001, 001)  (001, 001, 003)                         1   \n",
              "\n",
              "   24_order_in_time_window 24_machine_example_ID       24_step_ID  \\\n",
              "0                        1            (001, 001)  (001, 001, 001)   \n",
              "1                        2            (001, 001)  (001, 001, 002)   \n",
              "2                        3            (001, 001)  (001, 001, 003)   \n",
              "\n",
              "   48_machineID_time_window  48_order_in_time_window 48_machine_example_ID  \\\n",
              "0                         1                        1            (001, 001)   \n",
              "1                         1                        2            (001, 001)   \n",
              "2                         1                        3            (001, 001)   \n",
              "\n",
              "        48_step_ID  72_machineID_time_window  72_order_in_time_window  \\\n",
              "0  (001, 001, 001)                         1                        1   \n",
              "1  (001, 001, 002)                         1                        2   \n",
              "2  (001, 001, 003)                         1                        3   \n",
              "\n",
              "  72_machine_example_ID       72_step_ID  comp1_maint  comp2_maint  \\\n",
              "0            (001, 001)  (001, 001, 001)            0            0   \n",
              "1            (001, 001)  (001, 001, 002)            0            0   \n",
              "2            (001, 001)  (001, 001, 003)            0            0   \n",
              "\n",
              "   comp3_maint  comp4_maint  error1  error2  error3  error4  error5  \\\n",
              "0            0            0       0       0       0       0       0   \n",
              "1            0            0       0       0       0       0       0   \n",
              "2            0            0       0       0       0       0       0   \n",
              "\n",
              "   comp1_failure  comp2_failure  comp3_failure  comp4_failure  age  model2  \\\n",
              "0              0              0              0              0   18   False   \n",
              "1              0              0              0              0   18   False   \n",
              "2              0              0              0              0   18   False   \n",
              "\n",
              "   model3  model4  \n",
              "0    True   False  \n",
              "1    True   False  \n",
              "2    True   False  "
            ],
            "text/html": [
              "\n",
              "  <div id=\"df-32601548-6ca0-44be-91b4-52c4f545132e\" class=\"colab-df-container\">\n",
              "    <div>\n",
              "<style scoped>\n",
              "    .dataframe tbody tr th:only-of-type {\n",
              "        vertical-align: middle;\n",
              "    }\n",
              "\n",
              "    .dataframe tbody tr th {\n",
              "        vertical-align: top;\n",
              "    }\n",
              "\n",
              "    .dataframe thead th {\n",
              "        text-align: right;\n",
              "    }\n",
              "</style>\n",
              "<table border=\"1\" class=\"dataframe\">\n",
              "  <thead>\n",
              "    <tr style=\"text-align: right;\">\n",
              "      <th></th>\n",
              "      <th>datetime</th>\n",
              "      <th>machineID</th>\n",
              "      <th>volt</th>\n",
              "      <th>rotate</th>\n",
              "      <th>pressure</th>\n",
              "      <th>vibration</th>\n",
              "      <th>12_machineID_time_window</th>\n",
              "      <th>12_order_in_time_window</th>\n",
              "      <th>12_machine_example_ID</th>\n",
              "      <th>12_step_ID</th>\n",
              "      <th>24_machineID_time_window</th>\n",
              "      <th>24_order_in_time_window</th>\n",
              "      <th>24_machine_example_ID</th>\n",
              "      <th>24_step_ID</th>\n",
              "      <th>48_machineID_time_window</th>\n",
              "      <th>48_order_in_time_window</th>\n",
              "      <th>48_machine_example_ID</th>\n",
              "      <th>48_step_ID</th>\n",
              "      <th>72_machineID_time_window</th>\n",
              "      <th>72_order_in_time_window</th>\n",
              "      <th>72_machine_example_ID</th>\n",
              "      <th>72_step_ID</th>\n",
              "      <th>comp1_maint</th>\n",
              "      <th>comp2_maint</th>\n",
              "      <th>comp3_maint</th>\n",
              "      <th>comp4_maint</th>\n",
              "      <th>error1</th>\n",
              "      <th>error2</th>\n",
              "      <th>error3</th>\n",
              "      <th>error4</th>\n",
              "      <th>error5</th>\n",
              "      <th>comp1_failure</th>\n",
              "      <th>comp2_failure</th>\n",
              "      <th>comp3_failure</th>\n",
              "      <th>comp4_failure</th>\n",
              "      <th>age</th>\n",
              "      <th>model2</th>\n",
              "      <th>model3</th>\n",
              "      <th>model4</th>\n",
              "    </tr>\n",
              "  </thead>\n",
              "  <tbody>\n",
              "    <tr>\n",
              "      <th>0</th>\n",
              "      <td>2015-01-01 06:00:00</td>\n",
              "      <td>1</td>\n",
              "      <td>176.217853</td>\n",
              "      <td>418.504078</td>\n",
              "      <td>113.077935</td>\n",
              "      <td>45.087686</td>\n",
              "      <td>1</td>\n",
              "      <td>1</td>\n",
              "      <td>(001, 001)</td>\n",
              "      <td>(001, 001, 001)</td>\n",
              "      <td>1</td>\n",
              "      <td>1</td>\n",
              "      <td>(001, 001)</td>\n",
              "      <td>(001, 001, 001)</td>\n",
              "      <td>1</td>\n",
              "      <td>1</td>\n",
              "      <td>(001, 001)</td>\n",
              "      <td>(001, 001, 001)</td>\n",
              "      <td>1</td>\n",
              "      <td>1</td>\n",
              "      <td>(001, 001)</td>\n",
              "      <td>(001, 001, 001)</td>\n",
              "      <td>0</td>\n",
              "      <td>0</td>\n",
              "      <td>0</td>\n",
              "      <td>0</td>\n",
              "      <td>0</td>\n",
              "      <td>0</td>\n",
              "      <td>0</td>\n",
              "      <td>0</td>\n",
              "      <td>0</td>\n",
              "      <td>0</td>\n",
              "      <td>0</td>\n",
              "      <td>0</td>\n",
              "      <td>0</td>\n",
              "      <td>18</td>\n",
              "      <td>False</td>\n",
              "      <td>True</td>\n",
              "      <td>False</td>\n",
              "    </tr>\n",
              "    <tr>\n",
              "      <th>1</th>\n",
              "      <td>2015-01-01 07:00:00</td>\n",
              "      <td>1</td>\n",
              "      <td>162.879223</td>\n",
              "      <td>402.747490</td>\n",
              "      <td>95.460525</td>\n",
              "      <td>43.413973</td>\n",
              "      <td>1</td>\n",
              "      <td>2</td>\n",
              "      <td>(001, 001)</td>\n",
              "      <td>(001, 001, 002)</td>\n",
              "      <td>1</td>\n",
              "      <td>2</td>\n",
              "      <td>(001, 001)</td>\n",
              "      <td>(001, 001, 002)</td>\n",
              "      <td>1</td>\n",
              "      <td>2</td>\n",
              "      <td>(001, 001)</td>\n",
              "      <td>(001, 001, 002)</td>\n",
              "      <td>1</td>\n",
              "      <td>2</td>\n",
              "      <td>(001, 001)</td>\n",
              "      <td>(001, 001, 002)</td>\n",
              "      <td>0</td>\n",
              "      <td>0</td>\n",
              "      <td>0</td>\n",
              "      <td>0</td>\n",
              "      <td>0</td>\n",
              "      <td>0</td>\n",
              "      <td>0</td>\n",
              "      <td>0</td>\n",
              "      <td>0</td>\n",
              "      <td>0</td>\n",
              "      <td>0</td>\n",
              "      <td>0</td>\n",
              "      <td>0</td>\n",
              "      <td>18</td>\n",
              "      <td>False</td>\n",
              "      <td>True</td>\n",
              "      <td>False</td>\n",
              "    </tr>\n",
              "    <tr>\n",
              "      <th>2</th>\n",
              "      <td>2015-01-01 08:00:00</td>\n",
              "      <td>1</td>\n",
              "      <td>170.989902</td>\n",
              "      <td>527.349825</td>\n",
              "      <td>75.237905</td>\n",
              "      <td>34.178847</td>\n",
              "      <td>1</td>\n",
              "      <td>3</td>\n",
              "      <td>(001, 001)</td>\n",
              "      <td>(001, 001, 003)</td>\n",
              "      <td>1</td>\n",
              "      <td>3</td>\n",
              "      <td>(001, 001)</td>\n",
              "      <td>(001, 001, 003)</td>\n",
              "      <td>1</td>\n",
              "      <td>3</td>\n",
              "      <td>(001, 001)</td>\n",
              "      <td>(001, 001, 003)</td>\n",
              "      <td>1</td>\n",
              "      <td>3</td>\n",
              "      <td>(001, 001)</td>\n",
              "      <td>(001, 001, 003)</td>\n",
              "      <td>0</td>\n",
              "      <td>0</td>\n",
              "      <td>0</td>\n",
              "      <td>0</td>\n",
              "      <td>0</td>\n",
              "      <td>0</td>\n",
              "      <td>0</td>\n",
              "      <td>0</td>\n",
              "      <td>0</td>\n",
              "      <td>0</td>\n",
              "      <td>0</td>\n",
              "      <td>0</td>\n",
              "      <td>0</td>\n",
              "      <td>18</td>\n",
              "      <td>False</td>\n",
              "      <td>True</td>\n",
              "      <td>False</td>\n",
              "    </tr>\n",
              "  </tbody>\n",
              "</table>\n",
              "</div>\n",
              "    <div class=\"colab-df-buttons\">\n",
              "\n",
              "  <div class=\"colab-df-container\">\n",
              "    <button class=\"colab-df-convert\" onclick=\"convertToInteractive('df-32601548-6ca0-44be-91b4-52c4f545132e')\"\n",
              "            title=\"Convert this dataframe to an interactive table.\"\n",
              "            style=\"display:none;\">\n",
              "\n",
              "  <svg xmlns=\"http://www.w3.org/2000/svg\" height=\"24px\" viewBox=\"0 -960 960 960\">\n",
              "    <path d=\"M120-120v-720h720v720H120Zm60-500h600v-160H180v160Zm220 220h160v-160H400v160Zm0 220h160v-160H400v160ZM180-400h160v-160H180v160Zm440 0h160v-160H620v160ZM180-180h160v-160H180v160Zm440 0h160v-160H620v160Z\"/>\n",
              "  </svg>\n",
              "    </button>\n",
              "\n",
              "  <style>\n",
              "    .colab-df-container {\n",
              "      display:flex;\n",
              "      gap: 12px;\n",
              "    }\n",
              "\n",
              "    .colab-df-convert {\n",
              "      background-color: #E8F0FE;\n",
              "      border: none;\n",
              "      border-radius: 50%;\n",
              "      cursor: pointer;\n",
              "      display: none;\n",
              "      fill: #1967D2;\n",
              "      height: 32px;\n",
              "      padding: 0 0 0 0;\n",
              "      width: 32px;\n",
              "    }\n",
              "\n",
              "    .colab-df-convert:hover {\n",
              "      background-color: #E2EBFA;\n",
              "      box-shadow: 0px 1px 2px rgba(60, 64, 67, 0.3), 0px 1px 3px 1px rgba(60, 64, 67, 0.15);\n",
              "      fill: #174EA6;\n",
              "    }\n",
              "\n",
              "    .colab-df-buttons div {\n",
              "      margin-bottom: 4px;\n",
              "    }\n",
              "\n",
              "    [theme=dark] .colab-df-convert {\n",
              "      background-color: #3B4455;\n",
              "      fill: #D2E3FC;\n",
              "    }\n",
              "\n",
              "    [theme=dark] .colab-df-convert:hover {\n",
              "      background-color: #434B5C;\n",
              "      box-shadow: 0px 1px 3px 1px rgba(0, 0, 0, 0.15);\n",
              "      filter: drop-shadow(0px 1px 2px rgba(0, 0, 0, 0.3));\n",
              "      fill: #FFFFFF;\n",
              "    }\n",
              "  </style>\n",
              "\n",
              "    <script>\n",
              "      const buttonEl =\n",
              "        document.querySelector('#df-32601548-6ca0-44be-91b4-52c4f545132e button.colab-df-convert');\n",
              "      buttonEl.style.display =\n",
              "        google.colab.kernel.accessAllowed ? 'block' : 'none';\n",
              "\n",
              "      async function convertToInteractive(key) {\n",
              "        const element = document.querySelector('#df-32601548-6ca0-44be-91b4-52c4f545132e');\n",
              "        const dataTable =\n",
              "          await google.colab.kernel.invokeFunction('convertToInteractive',\n",
              "                                                    [key], {});\n",
              "        if (!dataTable) return;\n",
              "\n",
              "        const docLinkHtml = 'Like what you see? Visit the ' +\n",
              "          '<a target=\"_blank\" href=https://colab.research.google.com/notebooks/data_table.ipynb>data table notebook</a>'\n",
              "          + ' to learn more about interactive tables.';\n",
              "        element.innerHTML = '';\n",
              "        dataTable['output_type'] = 'display_data';\n",
              "        await google.colab.output.renderOutput(dataTable, element);\n",
              "        const docLink = document.createElement('div');\n",
              "        docLink.innerHTML = docLinkHtml;\n",
              "        element.appendChild(docLink);\n",
              "      }\n",
              "    </script>\n",
              "  </div>\n",
              "\n",
              "\n",
              "<div id=\"df-4eee59ff-c1ea-4728-8d42-7633856dd8a5\">\n",
              "  <button class=\"colab-df-quickchart\" onclick=\"quickchart('df-4eee59ff-c1ea-4728-8d42-7633856dd8a5')\"\n",
              "            title=\"Suggest charts\"\n",
              "            style=\"display:none;\">\n",
              "\n",
              "<svg xmlns=\"http://www.w3.org/2000/svg\" height=\"24px\"viewBox=\"0 0 24 24\"\n",
              "     width=\"24px\">\n",
              "    <g>\n",
              "        <path d=\"M19 3H5c-1.1 0-2 .9-2 2v14c0 1.1.9 2 2 2h14c1.1 0 2-.9 2-2V5c0-1.1-.9-2-2-2zM9 17H7v-7h2v7zm4 0h-2V7h2v10zm4 0h-2v-4h2v4z\"/>\n",
              "    </g>\n",
              "</svg>\n",
              "  </button>\n",
              "\n",
              "<style>\n",
              "  .colab-df-quickchart {\n",
              "      --bg-color: #E8F0FE;\n",
              "      --fill-color: #1967D2;\n",
              "      --hover-bg-color: #E2EBFA;\n",
              "      --hover-fill-color: #174EA6;\n",
              "      --disabled-fill-color: #AAA;\n",
              "      --disabled-bg-color: #DDD;\n",
              "  }\n",
              "\n",
              "  [theme=dark] .colab-df-quickchart {\n",
              "      --bg-color: #3B4455;\n",
              "      --fill-color: #D2E3FC;\n",
              "      --hover-bg-color: #434B5C;\n",
              "      --hover-fill-color: #FFFFFF;\n",
              "      --disabled-bg-color: #3B4455;\n",
              "      --disabled-fill-color: #666;\n",
              "  }\n",
              "\n",
              "  .colab-df-quickchart {\n",
              "    background-color: var(--bg-color);\n",
              "    border: none;\n",
              "    border-radius: 50%;\n",
              "    cursor: pointer;\n",
              "    display: none;\n",
              "    fill: var(--fill-color);\n",
              "    height: 32px;\n",
              "    padding: 0;\n",
              "    width: 32px;\n",
              "  }\n",
              "\n",
              "  .colab-df-quickchart:hover {\n",
              "    background-color: var(--hover-bg-color);\n",
              "    box-shadow: 0 1px 2px rgba(60, 64, 67, 0.3), 0 1px 3px 1px rgba(60, 64, 67, 0.15);\n",
              "    fill: var(--button-hover-fill-color);\n",
              "  }\n",
              "\n",
              "  .colab-df-quickchart-complete:disabled,\n",
              "  .colab-df-quickchart-complete:disabled:hover {\n",
              "    background-color: var(--disabled-bg-color);\n",
              "    fill: var(--disabled-fill-color);\n",
              "    box-shadow: none;\n",
              "  }\n",
              "\n",
              "  .colab-df-spinner {\n",
              "    border: 2px solid var(--fill-color);\n",
              "    border-color: transparent;\n",
              "    border-bottom-color: var(--fill-color);\n",
              "    animation:\n",
              "      spin 1s steps(1) infinite;\n",
              "  }\n",
              "\n",
              "  @keyframes spin {\n",
              "    0% {\n",
              "      border-color: transparent;\n",
              "      border-bottom-color: var(--fill-color);\n",
              "      border-left-color: var(--fill-color);\n",
              "    }\n",
              "    20% {\n",
              "      border-color: transparent;\n",
              "      border-left-color: var(--fill-color);\n",
              "      border-top-color: var(--fill-color);\n",
              "    }\n",
              "    30% {\n",
              "      border-color: transparent;\n",
              "      border-left-color: var(--fill-color);\n",
              "      border-top-color: var(--fill-color);\n",
              "      border-right-color: var(--fill-color);\n",
              "    }\n",
              "    40% {\n",
              "      border-color: transparent;\n",
              "      border-right-color: var(--fill-color);\n",
              "      border-top-color: var(--fill-color);\n",
              "    }\n",
              "    60% {\n",
              "      border-color: transparent;\n",
              "      border-right-color: var(--fill-color);\n",
              "    }\n",
              "    80% {\n",
              "      border-color: transparent;\n",
              "      border-right-color: var(--fill-color);\n",
              "      border-bottom-color: var(--fill-color);\n",
              "    }\n",
              "    90% {\n",
              "      border-color: transparent;\n",
              "      border-bottom-color: var(--fill-color);\n",
              "    }\n",
              "  }\n",
              "</style>\n",
              "\n",
              "  <script>\n",
              "    async function quickchart(key) {\n",
              "      const quickchartButtonEl =\n",
              "        document.querySelector('#' + key + ' button');\n",
              "      quickchartButtonEl.disabled = true;  // To prevent multiple clicks.\n",
              "      quickchartButtonEl.classList.add('colab-df-spinner');\n",
              "      try {\n",
              "        const charts = await google.colab.kernel.invokeFunction(\n",
              "            'suggestCharts', [key], {});\n",
              "      } catch (error) {\n",
              "        console.error('Error during call to suggestCharts:', error);\n",
              "      }\n",
              "      quickchartButtonEl.classList.remove('colab-df-spinner');\n",
              "      quickchartButtonEl.classList.add('colab-df-quickchart-complete');\n",
              "    }\n",
              "    (() => {\n",
              "      let quickchartButtonEl =\n",
              "        document.querySelector('#df-4eee59ff-c1ea-4728-8d42-7633856dd8a5 button');\n",
              "      quickchartButtonEl.style.display =\n",
              "        google.colab.kernel.accessAllowed ? 'block' : 'none';\n",
              "    })();\n",
              "  </script>\n",
              "</div>\n",
              "\n",
              "    </div>\n",
              "  </div>\n"
            ],
            "application/vnd.google.colaboratory.intrinsic+json": {
              "type": "dataframe",
              "variable_name": "df"
            }
          },
          "metadata": {},
          "execution_count": 5
        }
      ]
    },
    {
      "cell_type": "code",
      "source": [
        "df = df[\n",
        "    [\n",
        "        'datetime', 'machineID',\n",
        "        '12_machineID_time_window', '12_order_in_time_window', '12_machine_example_ID', '12_step_ID',\n",
        "        '24_machineID_time_window', '24_order_in_time_window', '24_machine_example_ID', '24_step_ID',\n",
        "        '48_machineID_time_window', '48_order_in_time_window', '48_machine_example_ID', '48_step_ID',\n",
        "        '72_machineID_time_window', '72_order_in_time_window', '72_machine_example_ID', '72_step_ID',\n",
        "        'age',\n",
        "        'model2', 'model3', 'model4',\n",
        "        'volt', 'rotate', 'pressure', 'vibration',\n",
        "        'comp1_maint', 'comp2_maint', 'comp3_maint', 'comp4_maint',\n",
        "        'error1', 'error2', 'error3', 'error4', 'error5',\n",
        "        'comp1_failure', 'comp2_failure', 'comp3_failure', 'comp4_failure',\n",
        "    ]\n",
        "]"
      ],
      "metadata": {
        "id": "I7Ng97A_8RM_"
      },
      "execution_count": null,
      "outputs": []
    },
    {
      "cell_type": "code",
      "source": [
        "df['datetime'] = pd.to_datetime(df['datetime'])\n",
        "df['machineID'] = df['machineID'].astype(int)\n",
        "\n",
        "df['12_machineID_time_window'] = df['12_machineID_time_window'].astype(int)\n",
        "df['12_order_in_time_window'] = df['12_order_in_time_window'].astype(int)\n",
        "df['12_machine_example_ID'] = df['12_machine_example_ID'].astype(str)\n",
        "df['12_step_ID'] = df['12_step_ID'].astype(str)\n",
        "df['24_machineID_time_window'] = df['24_machineID_time_window'].astype(int)\n",
        "df['24_order_in_time_window'] = df['24_order_in_time_window'].astype(int)\n",
        "df['24_machine_example_ID'] = df['24_machine_example_ID'].astype(str)\n",
        "df['24_step_ID'] = df['24_step_ID'].astype(str)\n",
        "df['48_machineID_time_window'] = df['48_machineID_time_window'].astype(int)\n",
        "df['48_order_in_time_window'] = df['48_order_in_time_window'].astype(int)\n",
        "df['48_machine_example_ID'] = df['48_machine_example_ID'].astype(str)\n",
        "df['48_step_ID'] = df['48_step_ID'].astype(str)\n",
        "df['72_machineID_time_window'] = df['72_machineID_time_window'].astype(int)\n",
        "df['72_order_in_time_window'] = df['72_order_in_time_window'].astype(int)\n",
        "df['72_machine_example_ID'] = df['72_machine_example_ID'].astype(str)\n",
        "df['72_step_ID'] = df['72_step_ID'].astype(str)\n",
        "\n",
        "df['age'] = df['age'].astype(int)\n",
        "df['model2'] = df['model2'].astype(int)\n",
        "df['model3'] = df['model3'].astype(int)\n",
        "df['model4'] = df['model4'].astype(int)\n",
        "\n",
        "df['volt'] = df['volt'].astype(float)\n",
        "df['rotate'] = df['rotate'].astype(float)\n",
        "df['pressure'] = df['pressure'].astype(float)\n",
        "df['vibration'] = df['vibration'].astype(float)\n",
        "df['comp1_maint'] = df['comp1_maint'].astype(int)\n",
        "df['comp2_maint'] = df['comp2_maint'].astype(int)\n",
        "df['comp3_maint'] = df['comp3_maint'].astype(int)\n",
        "df['comp4_maint'] = df['comp4_maint'].astype(int)\n",
        "df['error1'] = df['error1'].astype(int)\n",
        "df['error2'] = df['error2'].astype(int)\n",
        "df['error3'] = df['error3'].astype(int)\n",
        "df['error4'] = df['error4'].astype(int)\n",
        "df['error5'] = df['error5'].astype(int)\n",
        "df['comp1_failure'] = df['comp1_failure'].astype(int)\n",
        "df['comp2_failure'] = df['comp2_failure'].astype(int)\n",
        "df['comp3_failure'] = df['comp3_failure'].astype(int)\n",
        "df['comp4_failure'] = df['comp4_failure'].astype(int)"
      ],
      "metadata": {
        "id": "_xsoA0l08aXM"
      },
      "execution_count": null,
      "outputs": []
    },
    {
      "cell_type": "code",
      "source": [
        "df.head(3)"
      ],
      "metadata": {
        "colab": {
          "base_uri": "https://localhost:8080/",
          "height": 264
        },
        "id": "pWjl-B_78aZP",
        "outputId": "70d9988c-ff69-4e00-f9e1-a6df8e099732"
      },
      "execution_count": null,
      "outputs": [
        {
          "output_type": "execute_result",
          "data": {
            "text/plain": [
              "             datetime  machineID  12_machineID_time_window  \\\n",
              "0 2015-01-01 06:00:00          1                         1   \n",
              "1 2015-01-01 07:00:00          1                         1   \n",
              "2 2015-01-01 08:00:00          1                         1   \n",
              "\n",
              "   12_order_in_time_window 12_machine_example_ID       12_step_ID  \\\n",
              "0                        1            (001, 001)  (001, 001, 001)   \n",
              "1                        2            (001, 001)  (001, 001, 002)   \n",
              "2                        3            (001, 001)  (001, 001, 003)   \n",
              "\n",
              "   24_machineID_time_window  24_order_in_time_window 24_machine_example_ID  \\\n",
              "0                         1                        1            (001, 001)   \n",
              "1                         1                        2            (001, 001)   \n",
              "2                         1                        3            (001, 001)   \n",
              "\n",
              "        24_step_ID  48_machineID_time_window  48_order_in_time_window  \\\n",
              "0  (001, 001, 001)                         1                        1   \n",
              "1  (001, 001, 002)                         1                        2   \n",
              "2  (001, 001, 003)                         1                        3   \n",
              "\n",
              "  48_machine_example_ID       48_step_ID  72_machineID_time_window  \\\n",
              "0            (001, 001)  (001, 001, 001)                         1   \n",
              "1            (001, 001)  (001, 001, 002)                         1   \n",
              "2            (001, 001)  (001, 001, 003)                         1   \n",
              "\n",
              "   72_order_in_time_window 72_machine_example_ID       72_step_ID  age  \\\n",
              "0                        1            (001, 001)  (001, 001, 001)   18   \n",
              "1                        2            (001, 001)  (001, 001, 002)   18   \n",
              "2                        3            (001, 001)  (001, 001, 003)   18   \n",
              "\n",
              "   model2  model3  model4        volt      rotate    pressure  vibration  \\\n",
              "0       0       1       0  176.217853  418.504078  113.077935  45.087686   \n",
              "1       0       1       0  162.879223  402.747490   95.460525  43.413973   \n",
              "2       0       1       0  170.989902  527.349825   75.237905  34.178847   \n",
              "\n",
              "   comp1_maint  comp2_maint  comp3_maint  comp4_maint  error1  error2  error3  \\\n",
              "0            0            0            0            0       0       0       0   \n",
              "1            0            0            0            0       0       0       0   \n",
              "2            0            0            0            0       0       0       0   \n",
              "\n",
              "   error4  error5  comp1_failure  comp2_failure  comp3_failure  comp4_failure  \n",
              "0       0       0              0              0              0              0  \n",
              "1       0       0              0              0              0              0  \n",
              "2       0       0              0              0              0              0  "
            ],
            "text/html": [
              "\n",
              "  <div id=\"df-0473de6d-046e-482b-8c0e-b78a4cbdf77a\" class=\"colab-df-container\">\n",
              "    <div>\n",
              "<style scoped>\n",
              "    .dataframe tbody tr th:only-of-type {\n",
              "        vertical-align: middle;\n",
              "    }\n",
              "\n",
              "    .dataframe tbody tr th {\n",
              "        vertical-align: top;\n",
              "    }\n",
              "\n",
              "    .dataframe thead th {\n",
              "        text-align: right;\n",
              "    }\n",
              "</style>\n",
              "<table border=\"1\" class=\"dataframe\">\n",
              "  <thead>\n",
              "    <tr style=\"text-align: right;\">\n",
              "      <th></th>\n",
              "      <th>datetime</th>\n",
              "      <th>machineID</th>\n",
              "      <th>12_machineID_time_window</th>\n",
              "      <th>12_order_in_time_window</th>\n",
              "      <th>12_machine_example_ID</th>\n",
              "      <th>12_step_ID</th>\n",
              "      <th>24_machineID_time_window</th>\n",
              "      <th>24_order_in_time_window</th>\n",
              "      <th>24_machine_example_ID</th>\n",
              "      <th>24_step_ID</th>\n",
              "      <th>48_machineID_time_window</th>\n",
              "      <th>48_order_in_time_window</th>\n",
              "      <th>48_machine_example_ID</th>\n",
              "      <th>48_step_ID</th>\n",
              "      <th>72_machineID_time_window</th>\n",
              "      <th>72_order_in_time_window</th>\n",
              "      <th>72_machine_example_ID</th>\n",
              "      <th>72_step_ID</th>\n",
              "      <th>age</th>\n",
              "      <th>model2</th>\n",
              "      <th>model3</th>\n",
              "      <th>model4</th>\n",
              "      <th>volt</th>\n",
              "      <th>rotate</th>\n",
              "      <th>pressure</th>\n",
              "      <th>vibration</th>\n",
              "      <th>comp1_maint</th>\n",
              "      <th>comp2_maint</th>\n",
              "      <th>comp3_maint</th>\n",
              "      <th>comp4_maint</th>\n",
              "      <th>error1</th>\n",
              "      <th>error2</th>\n",
              "      <th>error3</th>\n",
              "      <th>error4</th>\n",
              "      <th>error5</th>\n",
              "      <th>comp1_failure</th>\n",
              "      <th>comp2_failure</th>\n",
              "      <th>comp3_failure</th>\n",
              "      <th>comp4_failure</th>\n",
              "    </tr>\n",
              "  </thead>\n",
              "  <tbody>\n",
              "    <tr>\n",
              "      <th>0</th>\n",
              "      <td>2015-01-01 06:00:00</td>\n",
              "      <td>1</td>\n",
              "      <td>1</td>\n",
              "      <td>1</td>\n",
              "      <td>(001, 001)</td>\n",
              "      <td>(001, 001, 001)</td>\n",
              "      <td>1</td>\n",
              "      <td>1</td>\n",
              "      <td>(001, 001)</td>\n",
              "      <td>(001, 001, 001)</td>\n",
              "      <td>1</td>\n",
              "      <td>1</td>\n",
              "      <td>(001, 001)</td>\n",
              "      <td>(001, 001, 001)</td>\n",
              "      <td>1</td>\n",
              "      <td>1</td>\n",
              "      <td>(001, 001)</td>\n",
              "      <td>(001, 001, 001)</td>\n",
              "      <td>18</td>\n",
              "      <td>0</td>\n",
              "      <td>1</td>\n",
              "      <td>0</td>\n",
              "      <td>176.217853</td>\n",
              "      <td>418.504078</td>\n",
              "      <td>113.077935</td>\n",
              "      <td>45.087686</td>\n",
              "      <td>0</td>\n",
              "      <td>0</td>\n",
              "      <td>0</td>\n",
              "      <td>0</td>\n",
              "      <td>0</td>\n",
              "      <td>0</td>\n",
              "      <td>0</td>\n",
              "      <td>0</td>\n",
              "      <td>0</td>\n",
              "      <td>0</td>\n",
              "      <td>0</td>\n",
              "      <td>0</td>\n",
              "      <td>0</td>\n",
              "    </tr>\n",
              "    <tr>\n",
              "      <th>1</th>\n",
              "      <td>2015-01-01 07:00:00</td>\n",
              "      <td>1</td>\n",
              "      <td>1</td>\n",
              "      <td>2</td>\n",
              "      <td>(001, 001)</td>\n",
              "      <td>(001, 001, 002)</td>\n",
              "      <td>1</td>\n",
              "      <td>2</td>\n",
              "      <td>(001, 001)</td>\n",
              "      <td>(001, 001, 002)</td>\n",
              "      <td>1</td>\n",
              "      <td>2</td>\n",
              "      <td>(001, 001)</td>\n",
              "      <td>(001, 001, 002)</td>\n",
              "      <td>1</td>\n",
              "      <td>2</td>\n",
              "      <td>(001, 001)</td>\n",
              "      <td>(001, 001, 002)</td>\n",
              "      <td>18</td>\n",
              "      <td>0</td>\n",
              "      <td>1</td>\n",
              "      <td>0</td>\n",
              "      <td>162.879223</td>\n",
              "      <td>402.747490</td>\n",
              "      <td>95.460525</td>\n",
              "      <td>43.413973</td>\n",
              "      <td>0</td>\n",
              "      <td>0</td>\n",
              "      <td>0</td>\n",
              "      <td>0</td>\n",
              "      <td>0</td>\n",
              "      <td>0</td>\n",
              "      <td>0</td>\n",
              "      <td>0</td>\n",
              "      <td>0</td>\n",
              "      <td>0</td>\n",
              "      <td>0</td>\n",
              "      <td>0</td>\n",
              "      <td>0</td>\n",
              "    </tr>\n",
              "    <tr>\n",
              "      <th>2</th>\n",
              "      <td>2015-01-01 08:00:00</td>\n",
              "      <td>1</td>\n",
              "      <td>1</td>\n",
              "      <td>3</td>\n",
              "      <td>(001, 001)</td>\n",
              "      <td>(001, 001, 003)</td>\n",
              "      <td>1</td>\n",
              "      <td>3</td>\n",
              "      <td>(001, 001)</td>\n",
              "      <td>(001, 001, 003)</td>\n",
              "      <td>1</td>\n",
              "      <td>3</td>\n",
              "      <td>(001, 001)</td>\n",
              "      <td>(001, 001, 003)</td>\n",
              "      <td>1</td>\n",
              "      <td>3</td>\n",
              "      <td>(001, 001)</td>\n",
              "      <td>(001, 001, 003)</td>\n",
              "      <td>18</td>\n",
              "      <td>0</td>\n",
              "      <td>1</td>\n",
              "      <td>0</td>\n",
              "      <td>170.989902</td>\n",
              "      <td>527.349825</td>\n",
              "      <td>75.237905</td>\n",
              "      <td>34.178847</td>\n",
              "      <td>0</td>\n",
              "      <td>0</td>\n",
              "      <td>0</td>\n",
              "      <td>0</td>\n",
              "      <td>0</td>\n",
              "      <td>0</td>\n",
              "      <td>0</td>\n",
              "      <td>0</td>\n",
              "      <td>0</td>\n",
              "      <td>0</td>\n",
              "      <td>0</td>\n",
              "      <td>0</td>\n",
              "      <td>0</td>\n",
              "    </tr>\n",
              "  </tbody>\n",
              "</table>\n",
              "</div>\n",
              "    <div class=\"colab-df-buttons\">\n",
              "\n",
              "  <div class=\"colab-df-container\">\n",
              "    <button class=\"colab-df-convert\" onclick=\"convertToInteractive('df-0473de6d-046e-482b-8c0e-b78a4cbdf77a')\"\n",
              "            title=\"Convert this dataframe to an interactive table.\"\n",
              "            style=\"display:none;\">\n",
              "\n",
              "  <svg xmlns=\"http://www.w3.org/2000/svg\" height=\"24px\" viewBox=\"0 -960 960 960\">\n",
              "    <path d=\"M120-120v-720h720v720H120Zm60-500h600v-160H180v160Zm220 220h160v-160H400v160Zm0 220h160v-160H400v160ZM180-400h160v-160H180v160Zm440 0h160v-160H620v160ZM180-180h160v-160H180v160Zm440 0h160v-160H620v160Z\"/>\n",
              "  </svg>\n",
              "    </button>\n",
              "\n",
              "  <style>\n",
              "    .colab-df-container {\n",
              "      display:flex;\n",
              "      gap: 12px;\n",
              "    }\n",
              "\n",
              "    .colab-df-convert {\n",
              "      background-color: #E8F0FE;\n",
              "      border: none;\n",
              "      border-radius: 50%;\n",
              "      cursor: pointer;\n",
              "      display: none;\n",
              "      fill: #1967D2;\n",
              "      height: 32px;\n",
              "      padding: 0 0 0 0;\n",
              "      width: 32px;\n",
              "    }\n",
              "\n",
              "    .colab-df-convert:hover {\n",
              "      background-color: #E2EBFA;\n",
              "      box-shadow: 0px 1px 2px rgba(60, 64, 67, 0.3), 0px 1px 3px 1px rgba(60, 64, 67, 0.15);\n",
              "      fill: #174EA6;\n",
              "    }\n",
              "\n",
              "    .colab-df-buttons div {\n",
              "      margin-bottom: 4px;\n",
              "    }\n",
              "\n",
              "    [theme=dark] .colab-df-convert {\n",
              "      background-color: #3B4455;\n",
              "      fill: #D2E3FC;\n",
              "    }\n",
              "\n",
              "    [theme=dark] .colab-df-convert:hover {\n",
              "      background-color: #434B5C;\n",
              "      box-shadow: 0px 1px 3px 1px rgba(0, 0, 0, 0.15);\n",
              "      filter: drop-shadow(0px 1px 2px rgba(0, 0, 0, 0.3));\n",
              "      fill: #FFFFFF;\n",
              "    }\n",
              "  </style>\n",
              "\n",
              "    <script>\n",
              "      const buttonEl =\n",
              "        document.querySelector('#df-0473de6d-046e-482b-8c0e-b78a4cbdf77a button.colab-df-convert');\n",
              "      buttonEl.style.display =\n",
              "        google.colab.kernel.accessAllowed ? 'block' : 'none';\n",
              "\n",
              "      async function convertToInteractive(key) {\n",
              "        const element = document.querySelector('#df-0473de6d-046e-482b-8c0e-b78a4cbdf77a');\n",
              "        const dataTable =\n",
              "          await google.colab.kernel.invokeFunction('convertToInteractive',\n",
              "                                                    [key], {});\n",
              "        if (!dataTable) return;\n",
              "\n",
              "        const docLinkHtml = 'Like what you see? Visit the ' +\n",
              "          '<a target=\"_blank\" href=https://colab.research.google.com/notebooks/data_table.ipynb>data table notebook</a>'\n",
              "          + ' to learn more about interactive tables.';\n",
              "        element.innerHTML = '';\n",
              "        dataTable['output_type'] = 'display_data';\n",
              "        await google.colab.output.renderOutput(dataTable, element);\n",
              "        const docLink = document.createElement('div');\n",
              "        docLink.innerHTML = docLinkHtml;\n",
              "        element.appendChild(docLink);\n",
              "      }\n",
              "    </script>\n",
              "  </div>\n",
              "\n",
              "\n",
              "<div id=\"df-ea0dea9f-0fba-471c-b8c8-9ab188dee016\">\n",
              "  <button class=\"colab-df-quickchart\" onclick=\"quickchart('df-ea0dea9f-0fba-471c-b8c8-9ab188dee016')\"\n",
              "            title=\"Suggest charts\"\n",
              "            style=\"display:none;\">\n",
              "\n",
              "<svg xmlns=\"http://www.w3.org/2000/svg\" height=\"24px\"viewBox=\"0 0 24 24\"\n",
              "     width=\"24px\">\n",
              "    <g>\n",
              "        <path d=\"M19 3H5c-1.1 0-2 .9-2 2v14c0 1.1.9 2 2 2h14c1.1 0 2-.9 2-2V5c0-1.1-.9-2-2-2zM9 17H7v-7h2v7zm4 0h-2V7h2v10zm4 0h-2v-4h2v4z\"/>\n",
              "    </g>\n",
              "</svg>\n",
              "  </button>\n",
              "\n",
              "<style>\n",
              "  .colab-df-quickchart {\n",
              "      --bg-color: #E8F0FE;\n",
              "      --fill-color: #1967D2;\n",
              "      --hover-bg-color: #E2EBFA;\n",
              "      --hover-fill-color: #174EA6;\n",
              "      --disabled-fill-color: #AAA;\n",
              "      --disabled-bg-color: #DDD;\n",
              "  }\n",
              "\n",
              "  [theme=dark] .colab-df-quickchart {\n",
              "      --bg-color: #3B4455;\n",
              "      --fill-color: #D2E3FC;\n",
              "      --hover-bg-color: #434B5C;\n",
              "      --hover-fill-color: #FFFFFF;\n",
              "      --disabled-bg-color: #3B4455;\n",
              "      --disabled-fill-color: #666;\n",
              "  }\n",
              "\n",
              "  .colab-df-quickchart {\n",
              "    background-color: var(--bg-color);\n",
              "    border: none;\n",
              "    border-radius: 50%;\n",
              "    cursor: pointer;\n",
              "    display: none;\n",
              "    fill: var(--fill-color);\n",
              "    height: 32px;\n",
              "    padding: 0;\n",
              "    width: 32px;\n",
              "  }\n",
              "\n",
              "  .colab-df-quickchart:hover {\n",
              "    background-color: var(--hover-bg-color);\n",
              "    box-shadow: 0 1px 2px rgba(60, 64, 67, 0.3), 0 1px 3px 1px rgba(60, 64, 67, 0.15);\n",
              "    fill: var(--button-hover-fill-color);\n",
              "  }\n",
              "\n",
              "  .colab-df-quickchart-complete:disabled,\n",
              "  .colab-df-quickchart-complete:disabled:hover {\n",
              "    background-color: var(--disabled-bg-color);\n",
              "    fill: var(--disabled-fill-color);\n",
              "    box-shadow: none;\n",
              "  }\n",
              "\n",
              "  .colab-df-spinner {\n",
              "    border: 2px solid var(--fill-color);\n",
              "    border-color: transparent;\n",
              "    border-bottom-color: var(--fill-color);\n",
              "    animation:\n",
              "      spin 1s steps(1) infinite;\n",
              "  }\n",
              "\n",
              "  @keyframes spin {\n",
              "    0% {\n",
              "      border-color: transparent;\n",
              "      border-bottom-color: var(--fill-color);\n",
              "      border-left-color: var(--fill-color);\n",
              "    }\n",
              "    20% {\n",
              "      border-color: transparent;\n",
              "      border-left-color: var(--fill-color);\n",
              "      border-top-color: var(--fill-color);\n",
              "    }\n",
              "    30% {\n",
              "      border-color: transparent;\n",
              "      border-left-color: var(--fill-color);\n",
              "      border-top-color: var(--fill-color);\n",
              "      border-right-color: var(--fill-color);\n",
              "    }\n",
              "    40% {\n",
              "      border-color: transparent;\n",
              "      border-right-color: var(--fill-color);\n",
              "      border-top-color: var(--fill-color);\n",
              "    }\n",
              "    60% {\n",
              "      border-color: transparent;\n",
              "      border-right-color: var(--fill-color);\n",
              "    }\n",
              "    80% {\n",
              "      border-color: transparent;\n",
              "      border-right-color: var(--fill-color);\n",
              "      border-bottom-color: var(--fill-color);\n",
              "    }\n",
              "    90% {\n",
              "      border-color: transparent;\n",
              "      border-bottom-color: var(--fill-color);\n",
              "    }\n",
              "  }\n",
              "</style>\n",
              "\n",
              "  <script>\n",
              "    async function quickchart(key) {\n",
              "      const quickchartButtonEl =\n",
              "        document.querySelector('#' + key + ' button');\n",
              "      quickchartButtonEl.disabled = true;  // To prevent multiple clicks.\n",
              "      quickchartButtonEl.classList.add('colab-df-spinner');\n",
              "      try {\n",
              "        const charts = await google.colab.kernel.invokeFunction(\n",
              "            'suggestCharts', [key], {});\n",
              "      } catch (error) {\n",
              "        console.error('Error during call to suggestCharts:', error);\n",
              "      }\n",
              "      quickchartButtonEl.classList.remove('colab-df-spinner');\n",
              "      quickchartButtonEl.classList.add('colab-df-quickchart-complete');\n",
              "    }\n",
              "    (() => {\n",
              "      let quickchartButtonEl =\n",
              "        document.querySelector('#df-ea0dea9f-0fba-471c-b8c8-9ab188dee016 button');\n",
              "      quickchartButtonEl.style.display =\n",
              "        google.colab.kernel.accessAllowed ? 'block' : 'none';\n",
              "    })();\n",
              "  </script>\n",
              "</div>\n",
              "\n",
              "    </div>\n",
              "  </div>\n"
            ],
            "application/vnd.google.colaboratory.intrinsic+json": {
              "type": "dataframe",
              "variable_name": "df"
            }
          },
          "metadata": {},
          "execution_count": 8
        }
      ]
    },
    {
      "cell_type": "markdown",
      "source": [
        "### 1. Define Helper Function to Obtain Outcomes"
      ],
      "metadata": {
        "id": "J7lFfnez8e1K"
      }
    },
    {
      "cell_type": "code",
      "source": [
        "def identify_future_failures_dict(\n",
        "    df: pd.DataFrame,\n",
        "    machine_example_id_col: str,\n",
        "    hours_ahead: int = 168,\n",
        ") -> Dict[str, int]:\n",
        "    \"\"\"\n",
        "    Purpose: Creates dictionary indicating if any failure occurs within a\n",
        "        specified number of hours for each machine_example_ID.\n",
        "    :param df: DataFrame containing machine data.\n",
        "    :param hours_ahead: int representing the number of hours to look ahead for\n",
        "        failures from the max datetime of each machine_example_ID.\n",
        "    :return: Dict with 'machine_example_ID' as keys and binary values indicating\n",
        "        future failures.\n",
        "    \"\"\"\n",
        "    printed_machineIDs_set = set()\n",
        "\n",
        "    # grouping by 'machine_example_ID' and findind the max DTM for each group;\n",
        "    # max DTM for each group should be 23:00\n",
        "    max_datetime_per_id = df.groupby(machine_example_id_col)['datetime'].max()\n",
        "\n",
        "    # obtain dict by iterating through each unique machine_example_ID\n",
        "    future_failures_dict = dict()\n",
        "    for machine_example_id, max_datetime in max_datetime_per_id.items():\n",
        "\n",
        "        # calculate window for the specified number of hours after the max DTM\n",
        "        window_start = max_datetime + pd.Timedelta(hours = 1)\n",
        "        window_end = max_datetime + pd.Timedelta(hours = hours_ahead)\n",
        "\n",
        "        # get machineID\n",
        "        machineID = int(machine_example_id[1:4])\n",
        "\n",
        "        if machineID not in printed_machineIDs_set:\n",
        "            print(machineID, end=\"   \")\n",
        "            printed_machineIDs_set.add(machineID)\n",
        "\n",
        "        filtered_df = df[\n",
        "            # filter for machineID\n",
        "            (df['machineID'] == machineID)\n",
        "\n",
        "            # filter for rows within \"look-ahead\" window\n",
        "            & (window_start <= df['datetime'])\n",
        "            & (df['datetime'] <= window_end)\n",
        "\n",
        "            # filter for rows with any failure\n",
        "            & (\n",
        "                (df['comp1_failure'] == 1)\n",
        "                | (df['comp2_failure'] == 1)\n",
        "                | (df['comp3_failure'] == 1)\n",
        "                | (df['comp4_failure'] == 1)\n",
        "            )\n",
        "        ]\n",
        "\n",
        "        # update dict for this machine_example_ID\n",
        "        if len(filtered_df) > 0:\n",
        "            future_failures_dict[machine_example_id] = 1\n",
        "        else:\n",
        "            future_failures_dict[machine_example_id] = 0\n",
        "\n",
        "    return future_failures_dict"
      ],
      "metadata": {
        "id": "kIQB1n1Y8abV"
      },
      "execution_count": null,
      "outputs": []
    },
    {
      "cell_type": "markdown",
      "source": [
        "### 2. Create Targets Data Dicts From Preprocessed Data"
      ],
      "metadata": {
        "id": "5pWSzoTM8iun"
      }
    },
    {
      "cell_type": "code",
      "source": [
        "for hour_feature_window in [12, 24, 48, 72]:\n",
        "    print(f\"- Hour Feature Window: {hour_feature_window}\")\n",
        "\n",
        "    for hour_lookahead in [1, 6, 24, 96, 168]:\n",
        "        print(f\"\\t- Hours Lookahead: {hour_lookahead}\")\n",
        "\n",
        "        targets_dict = identify_future_failures_dict(\n",
        "            df = df,\n",
        "            machine_example_id_col = f'{hour_feature_window}_machine_example_ID',\n",
        "            hours_ahead = hour_lookahead\n",
        "        )\n",
        "\n",
        "        prevalence = sum(v == 1 for v in targets_dict.values()) / len(targets_dict)\n",
        "        print(f\"\\t\\t- {format(len(targets_dict), ',')} total key-value pairs in targets_dict.\")\n",
        "        print(f\"\\t\\t\\t- Prevalence: {round(100 * prevalence, 2)}%.\")\n",
        "\n",
        "        # remove max order in time window key (there is no subsequent outcome on which to judge its outcome)\n",
        "        max_order_in_time_window = df[f'{hour_feature_window}_order_in_time_window'].max()\n",
        "        targets_dict = {\n",
        "            k: v for k, v in targets_dict.items()\n",
        "            if int(k[6:9]) != max_order_in_time_window\n",
        "        }\n",
        "        prevalence = sum(v == 1 for v in targets_dict.values()) / len(targets_dict)\n",
        "        print(f\"\\t\\t- {format(len(targets_dict), ',')} total key-value pairs in targets_dict.\")\n",
        "        print(f\"\\t\\t\\t- Prevalence: {round(100 * prevalence, 2)}%.\")\n",
        "\n",
        "        # save as JSON\n",
        "        SAVE_FILENAME = f'targets_dict_anyfailure_{hour_feature_window}hrfeaturewindow_{hour_lookahead}hrlookahead.json'\n",
        "        SAVE_LOC = os.path.join(SAVE_DATA_DIR, SAVE_FILENAME)\n",
        "        with open(SAVE_LOC, mode = 'w') as json_f:\n",
        "          json.dump(obj = targets_dict, fp = json_f, indent = 4)\n",
        "        print(f\"\\t\\t*Saved file: {SAVE_FILENAME}\")"
      ],
      "metadata": {
        "colab": {
          "base_uri": "https://localhost:8080/",
          "height": 966
        },
        "id": "UvL-3mUkCExU",
        "outputId": "5d0a66d6-61c4-4f71-864f-787b226bdaca"
      },
      "execution_count": null,
      "outputs": [
        {
          "output_type": "stream",
          "name": "stdout",
          "text": [
            "- Hour Feature Window: 12\n",
            "\t- Hours Lookahead: 1\n",
            "1   2   3   4   5   6   7   8   9   10   11   12   13   14   15   16   17   18   19   20   21   22   23   24   25   26   27   28   29   30   31   32   33   34   35   36   37   38   39   40   41   42   43   44   45   46   47   48   49   50   51   52   53   54   55   56   57   58   59   60   61   62   63   64   65   66   67   68   69   70   71   72   73   74   75   76   77   78   79   80   81   82   83   84   85   86   87   88   89   90   91   92   93   94   95   96   97   98   99   100   \t\t- 73,100 total key-value pairs in targets_dict.\n",
            "\t\t\t- Prevalence: 0.96%.\n",
            "\t\t- 73,000 total key-value pairs in targets_dict.\n",
            "\t\t\t- Prevalence: 0.96%.\n",
            "\t\t*Saved file: targets_dict_anyfailure_12hrfeaturewindow_1hrlookahead.json\n",
            "\t- Hours Lookahead: 6\n",
            "1   2   3   4   5   6   7   8   9   10   11   12   13   14   15   16   17   18   19   20   21   22   23   24   25   26   27   28   29   30   31   32   33   34   35   36   37   38   39   40   41   42   43   44   45   46   47   48   49   50   51   52   53   54   55   56   57   58   59   60   61   62   63   64   65   66   67   68   69   70   71   72   73   74   75   76   77   78   79   80   81   82   83   84   85   86   87   88   89   90   91   92   93   94   95   96   97   98   99   100   \t\t- 73,100 total key-value pairs in targets_dict.\n",
            "\t\t\t- Prevalence: 0.96%.\n",
            "\t\t- 73,000 total key-value pairs in targets_dict.\n",
            "\t\t\t- Prevalence: 0.96%.\n",
            "\t\t*Saved file: targets_dict_anyfailure_12hrfeaturewindow_6hrlookahead.json\n",
            "\t- Hours Lookahead: 24\n",
            "1   2   3   4   5   6   7   8   9   10   11   12   13   14   15   16   17   18   19   20   21   22   23   24   25   26   27   28   29   30   31   32   33   34   35   36   37   38   39   40   41   42   43   44   45   46   47   48   49   50   51   52   53   54   55   56   57   58   59   60   61   62   63   64   65   66   67   68   69   70   71   72   73   74   75   76   77   78   79   80   81   82   83   84   85   86   87   88   89   90   91   92   93   94   95   96   97   98   99   100   \t\t- 73,100 total key-value pairs in targets_dict.\n",
            "\t\t\t- Prevalence: 1.94%.\n",
            "\t\t- 73,000 total key-value pairs in targets_dict.\n",
            "\t\t\t- Prevalence: 1.94%.\n",
            "\t\t*Saved file: targets_dict_anyfailure_12hrfeaturewindow_24hrlookahead.json\n",
            "\t- Hours Lookahead: 96\n",
            "1   2   3   4   5   6   7   8   9   10   11   12   13   14   15   16   17   18   19   20   21   22   23   24   25   26   27   28   29   30   31   32   33   34   35   36   37   38   39   40   41   42   43   44   45   46   47   48   49   50   51   52   53   54   55   56   57   58   59   60   61   62   63   64   65   66   67   68   69   70   71   72   73   74   75   76   77   78   79   80   81   82   83   84   85   86   87   88   89   90   91   92   93   94   95   96   97   98   99   100   \t\t- 73,100 total key-value pairs in targets_dict.\n",
            "\t\t\t- Prevalence: 7.67%.\n",
            "\t\t- 73,000 total key-value pairs in targets_dict.\n",
            "\t\t\t- Prevalence: 7.67%.\n",
            "\t\t*Saved file: targets_dict_anyfailure_12hrfeaturewindow_96hrlookahead.json\n",
            "\t- Hours Lookahead: 168\n",
            "1   2   3   4   5   6   7   8   9   10   11   12   13   14   15   16   17   18   19   20   21   22   23   24   25   26   27   28   29   30   31   32   33   34   35   36   37   38   39   40   41   42   43   44   45   46   47   48   49   50   51   52   53   54   55   56   57   58   59   60   61   62   63   64   65   66   67   68   69   70   71   72   73   74   75   76   77   78   79   80   81   82   83   84   85   86   87   88   89   90   91   92   93   94   95   96   97   98   99   100   \t\t- 73,100 total key-value pairs in targets_dict.\n",
            "\t\t\t- Prevalence: 13.33%.\n",
            "\t\t- 73,000 total key-value pairs in targets_dict.\n",
            "\t\t\t- Prevalence: 13.33%.\n",
            "\t\t*Saved file: targets_dict_anyfailure_12hrfeaturewindow_168hrlookahead.json\n",
            "- Hour Feature Window: 24\n",
            "\t- Hours Lookahead: 1\n",
            "1   2   3   4   "
          ]
        },
        {
          "output_type": "error",
          "ename": "KeyboardInterrupt",
          "evalue": "",
          "traceback": [
            "\u001b[0;31m---------------------------------------------------------------------------\u001b[0m",
            "\u001b[0;31mKeyboardInterrupt\u001b[0m                         Traceback (most recent call last)",
            "\u001b[0;32m<ipython-input-17-f66e97b7e1d6>\u001b[0m in \u001b[0;36m<cell line: 1>\u001b[0;34m()\u001b[0m\n\u001b[1;32m      5\u001b[0m         \u001b[0mprint\u001b[0m\u001b[0;34m(\u001b[0m\u001b[0;34mf\"\\t- Hours Lookahead: {hour_lookahead}\"\u001b[0m\u001b[0;34m)\u001b[0m\u001b[0;34m\u001b[0m\u001b[0;34m\u001b[0m\u001b[0m\n\u001b[1;32m      6\u001b[0m \u001b[0;34m\u001b[0m\u001b[0m\n\u001b[0;32m----> 7\u001b[0;31m         targets_dict = identify_future_failures_dict(\n\u001b[0m\u001b[1;32m      8\u001b[0m             \u001b[0mdf\u001b[0m \u001b[0;34m=\u001b[0m \u001b[0mdf\u001b[0m\u001b[0;34m,\u001b[0m\u001b[0;34m\u001b[0m\u001b[0;34m\u001b[0m\u001b[0m\n\u001b[1;32m      9\u001b[0m             \u001b[0mmachine_example_id_col\u001b[0m \u001b[0;34m=\u001b[0m \u001b[0;34mf'{hour_feature_window}_machine_example_ID'\u001b[0m\u001b[0;34m,\u001b[0m\u001b[0;34m\u001b[0m\u001b[0;34m\u001b[0m\u001b[0m\n",
            "\u001b[0;32m<ipython-input-16-88893c4787f2>\u001b[0m in \u001b[0;36midentify_future_failures_dict\u001b[0;34m(df, machine_example_id_col, hours_ahead)\u001b[0m\n\u001b[1;32m     40\u001b[0m             \u001b[0;31m# filter for rows within \"look-ahead\" window\u001b[0m\u001b[0;34m\u001b[0m\u001b[0;34m\u001b[0m\u001b[0m\n\u001b[1;32m     41\u001b[0m             \u001b[0;34m&\u001b[0m \u001b[0;34m(\u001b[0m\u001b[0mwindow_start\u001b[0m \u001b[0;34m<=\u001b[0m \u001b[0mdf\u001b[0m\u001b[0;34m[\u001b[0m\u001b[0;34m'datetime'\u001b[0m\u001b[0;34m]\u001b[0m\u001b[0;34m)\u001b[0m\u001b[0;34m\u001b[0m\u001b[0;34m\u001b[0m\u001b[0m\n\u001b[0;32m---> 42\u001b[0;31m             \u001b[0;34m&\u001b[0m \u001b[0;34m(\u001b[0m\u001b[0mdf\u001b[0m\u001b[0;34m[\u001b[0m\u001b[0;34m'datetime'\u001b[0m\u001b[0;34m]\u001b[0m \u001b[0;34m<=\u001b[0m \u001b[0mwindow_end\u001b[0m\u001b[0;34m)\u001b[0m\u001b[0;34m\u001b[0m\u001b[0;34m\u001b[0m\u001b[0m\n\u001b[0m\u001b[1;32m     43\u001b[0m \u001b[0;34m\u001b[0m\u001b[0m\n\u001b[1;32m     44\u001b[0m             \u001b[0;31m# filter for rows with any failure\u001b[0m\u001b[0;34m\u001b[0m\u001b[0;34m\u001b[0m\u001b[0m\n",
            "\u001b[0;32m/usr/local/lib/python3.10/dist-packages/pandas/core/ops/common.py\u001b[0m in \u001b[0;36mnew_method\u001b[0;34m(self, other)\u001b[0m\n\u001b[1;32m     79\u001b[0m         \u001b[0mother\u001b[0m \u001b[0;34m=\u001b[0m \u001b[0mitem_from_zerodim\u001b[0m\u001b[0;34m(\u001b[0m\u001b[0mother\u001b[0m\u001b[0;34m)\u001b[0m\u001b[0;34m\u001b[0m\u001b[0;34m\u001b[0m\u001b[0m\n\u001b[1;32m     80\u001b[0m \u001b[0;34m\u001b[0m\u001b[0m\n\u001b[0;32m---> 81\u001b[0;31m         \u001b[0;32mreturn\u001b[0m \u001b[0mmethod\u001b[0m\u001b[0;34m(\u001b[0m\u001b[0mself\u001b[0m\u001b[0;34m,\u001b[0m \u001b[0mother\u001b[0m\u001b[0;34m)\u001b[0m\u001b[0;34m\u001b[0m\u001b[0;34m\u001b[0m\u001b[0m\n\u001b[0m\u001b[1;32m     82\u001b[0m \u001b[0;34m\u001b[0m\u001b[0m\n\u001b[1;32m     83\u001b[0m     \u001b[0;32mreturn\u001b[0m \u001b[0mnew_method\u001b[0m\u001b[0;34m\u001b[0m\u001b[0;34m\u001b[0m\u001b[0m\n",
            "\u001b[0;32m/usr/local/lib/python3.10/dist-packages/pandas/core/arraylike.py\u001b[0m in \u001b[0;36m__le__\u001b[0;34m(self, other)\u001b[0m\n\u001b[1;32m     50\u001b[0m     \u001b[0;34m@\u001b[0m\u001b[0munpack_zerodim_and_defer\u001b[0m\u001b[0;34m(\u001b[0m\u001b[0;34m\"__le__\"\u001b[0m\u001b[0;34m)\u001b[0m\u001b[0;34m\u001b[0m\u001b[0;34m\u001b[0m\u001b[0m\n\u001b[1;32m     51\u001b[0m     \u001b[0;32mdef\u001b[0m \u001b[0m__le__\u001b[0m\u001b[0;34m(\u001b[0m\u001b[0mself\u001b[0m\u001b[0;34m,\u001b[0m \u001b[0mother\u001b[0m\u001b[0;34m)\u001b[0m\u001b[0;34m:\u001b[0m\u001b[0;34m\u001b[0m\u001b[0;34m\u001b[0m\u001b[0m\n\u001b[0;32m---> 52\u001b[0;31m         \u001b[0;32mreturn\u001b[0m \u001b[0mself\u001b[0m\u001b[0;34m.\u001b[0m\u001b[0m_cmp_method\u001b[0m\u001b[0;34m(\u001b[0m\u001b[0mother\u001b[0m\u001b[0;34m,\u001b[0m \u001b[0moperator\u001b[0m\u001b[0;34m.\u001b[0m\u001b[0mle\u001b[0m\u001b[0;34m)\u001b[0m\u001b[0;34m\u001b[0m\u001b[0;34m\u001b[0m\u001b[0m\n\u001b[0m\u001b[1;32m     53\u001b[0m \u001b[0;34m\u001b[0m\u001b[0m\n\u001b[1;32m     54\u001b[0m     \u001b[0;34m@\u001b[0m\u001b[0munpack_zerodim_and_defer\u001b[0m\u001b[0;34m(\u001b[0m\u001b[0;34m\"__gt__\"\u001b[0m\u001b[0;34m)\u001b[0m\u001b[0;34m\u001b[0m\u001b[0;34m\u001b[0m\u001b[0m\n",
            "\u001b[0;32m/usr/local/lib/python3.10/dist-packages/pandas/core/series.py\u001b[0m in \u001b[0;36m_cmp_method\u001b[0;34m(self, other, op)\u001b[0m\n\u001b[1;32m   6094\u001b[0m \u001b[0;34m\u001b[0m\u001b[0m\n\u001b[1;32m   6095\u001b[0m         \u001b[0;32mwith\u001b[0m \u001b[0mnp\u001b[0m\u001b[0;34m.\u001b[0m\u001b[0merrstate\u001b[0m\u001b[0;34m(\u001b[0m\u001b[0mall\u001b[0m\u001b[0;34m=\u001b[0m\u001b[0;34m\"ignore\"\u001b[0m\u001b[0;34m)\u001b[0m\u001b[0;34m:\u001b[0m\u001b[0;34m\u001b[0m\u001b[0;34m\u001b[0m\u001b[0m\n\u001b[0;32m-> 6096\u001b[0;31m             \u001b[0mres_values\u001b[0m \u001b[0;34m=\u001b[0m \u001b[0mops\u001b[0m\u001b[0;34m.\u001b[0m\u001b[0mcomparison_op\u001b[0m\u001b[0;34m(\u001b[0m\u001b[0mlvalues\u001b[0m\u001b[0;34m,\u001b[0m \u001b[0mrvalues\u001b[0m\u001b[0;34m,\u001b[0m \u001b[0mop\u001b[0m\u001b[0;34m)\u001b[0m\u001b[0;34m\u001b[0m\u001b[0;34m\u001b[0m\u001b[0m\n\u001b[0m\u001b[1;32m   6097\u001b[0m \u001b[0;34m\u001b[0m\u001b[0m\n\u001b[1;32m   6098\u001b[0m         \u001b[0;32mreturn\u001b[0m \u001b[0mself\u001b[0m\u001b[0;34m.\u001b[0m\u001b[0m_construct_result\u001b[0m\u001b[0;34m(\u001b[0m\u001b[0mres_values\u001b[0m\u001b[0;34m,\u001b[0m \u001b[0mname\u001b[0m\u001b[0;34m=\u001b[0m\u001b[0mres_name\u001b[0m\u001b[0;34m)\u001b[0m\u001b[0;34m\u001b[0m\u001b[0;34m\u001b[0m\u001b[0m\n",
            "\u001b[0;32m/usr/local/lib/python3.10/dist-packages/pandas/core/ops/array_ops.py\u001b[0m in \u001b[0;36mcomparison_op\u001b[0;34m(left, right, op)\u001b[0m\n\u001b[1;32m    277\u001b[0m     ):\n\u001b[1;32m    278\u001b[0m         \u001b[0;31m# Call the method on lvalues\u001b[0m\u001b[0;34m\u001b[0m\u001b[0;34m\u001b[0m\u001b[0m\n\u001b[0;32m--> 279\u001b[0;31m         \u001b[0mres_values\u001b[0m \u001b[0;34m=\u001b[0m \u001b[0mop\u001b[0m\u001b[0;34m(\u001b[0m\u001b[0mlvalues\u001b[0m\u001b[0;34m,\u001b[0m \u001b[0mrvalues\u001b[0m\u001b[0;34m)\u001b[0m\u001b[0;34m\u001b[0m\u001b[0;34m\u001b[0m\u001b[0m\n\u001b[0m\u001b[1;32m    280\u001b[0m \u001b[0;34m\u001b[0m\u001b[0m\n\u001b[1;32m    281\u001b[0m     \u001b[0;32melif\u001b[0m \u001b[0mis_scalar\u001b[0m\u001b[0;34m(\u001b[0m\u001b[0mrvalues\u001b[0m\u001b[0;34m)\u001b[0m \u001b[0;32mand\u001b[0m \u001b[0misna\u001b[0m\u001b[0;34m(\u001b[0m\u001b[0mrvalues\u001b[0m\u001b[0;34m)\u001b[0m\u001b[0;34m:\u001b[0m  \u001b[0;31m# TODO: but not pd.NA?\u001b[0m\u001b[0;34m\u001b[0m\u001b[0;34m\u001b[0m\u001b[0m\n",
            "\u001b[0;32m/usr/local/lib/python3.10/dist-packages/pandas/core/ops/common.py\u001b[0m in \u001b[0;36mnew_method\u001b[0;34m(self, other)\u001b[0m\n\u001b[1;32m     79\u001b[0m         \u001b[0mother\u001b[0m \u001b[0;34m=\u001b[0m \u001b[0mitem_from_zerodim\u001b[0m\u001b[0;34m(\u001b[0m\u001b[0mother\u001b[0m\u001b[0;34m)\u001b[0m\u001b[0;34m\u001b[0m\u001b[0;34m\u001b[0m\u001b[0m\n\u001b[1;32m     80\u001b[0m \u001b[0;34m\u001b[0m\u001b[0m\n\u001b[0;32m---> 81\u001b[0;31m         \u001b[0;32mreturn\u001b[0m \u001b[0mmethod\u001b[0m\u001b[0;34m(\u001b[0m\u001b[0mself\u001b[0m\u001b[0;34m,\u001b[0m \u001b[0mother\u001b[0m\u001b[0;34m)\u001b[0m\u001b[0;34m\u001b[0m\u001b[0;34m\u001b[0m\u001b[0m\n\u001b[0m\u001b[1;32m     82\u001b[0m \u001b[0;34m\u001b[0m\u001b[0m\n\u001b[1;32m     83\u001b[0m     \u001b[0;32mreturn\u001b[0m \u001b[0mnew_method\u001b[0m\u001b[0;34m\u001b[0m\u001b[0;34m\u001b[0m\u001b[0m\n",
            "\u001b[0;32m/usr/local/lib/python3.10/dist-packages/pandas/core/arraylike.py\u001b[0m in \u001b[0;36m__le__\u001b[0;34m(self, other)\u001b[0m\n\u001b[1;32m     50\u001b[0m     \u001b[0;34m@\u001b[0m\u001b[0munpack_zerodim_and_defer\u001b[0m\u001b[0;34m(\u001b[0m\u001b[0;34m\"__le__\"\u001b[0m\u001b[0;34m)\u001b[0m\u001b[0;34m\u001b[0m\u001b[0;34m\u001b[0m\u001b[0m\n\u001b[1;32m     51\u001b[0m     \u001b[0;32mdef\u001b[0m \u001b[0m__le__\u001b[0m\u001b[0;34m(\u001b[0m\u001b[0mself\u001b[0m\u001b[0;34m,\u001b[0m \u001b[0mother\u001b[0m\u001b[0;34m)\u001b[0m\u001b[0;34m:\u001b[0m\u001b[0;34m\u001b[0m\u001b[0;34m\u001b[0m\u001b[0m\n\u001b[0;32m---> 52\u001b[0;31m         \u001b[0;32mreturn\u001b[0m \u001b[0mself\u001b[0m\u001b[0;34m.\u001b[0m\u001b[0m_cmp_method\u001b[0m\u001b[0;34m(\u001b[0m\u001b[0mother\u001b[0m\u001b[0;34m,\u001b[0m \u001b[0moperator\u001b[0m\u001b[0;34m.\u001b[0m\u001b[0mle\u001b[0m\u001b[0;34m)\u001b[0m\u001b[0;34m\u001b[0m\u001b[0;34m\u001b[0m\u001b[0m\n\u001b[0m\u001b[1;32m     53\u001b[0m \u001b[0;34m\u001b[0m\u001b[0m\n\u001b[1;32m     54\u001b[0m     \u001b[0;34m@\u001b[0m\u001b[0munpack_zerodim_and_defer\u001b[0m\u001b[0;34m(\u001b[0m\u001b[0;34m\"__gt__\"\u001b[0m\u001b[0;34m)\u001b[0m\u001b[0;34m\u001b[0m\u001b[0;34m\u001b[0m\u001b[0m\n",
            "\u001b[0;32m/usr/local/lib/python3.10/dist-packages/pandas/core/arrays/datetimelike.py\u001b[0m in \u001b[0;36m_cmp_method\u001b[0;34m(self, other, op)\u001b[0m\n\u001b[1;32m    979\u001b[0m         \u001b[0mo_mask\u001b[0m \u001b[0;34m=\u001b[0m \u001b[0misna\u001b[0m\u001b[0;34m(\u001b[0m\u001b[0mother\u001b[0m\u001b[0;34m)\u001b[0m\u001b[0;34m\u001b[0m\u001b[0;34m\u001b[0m\u001b[0m\n\u001b[1;32m    980\u001b[0m         \u001b[0mmask\u001b[0m \u001b[0;34m=\u001b[0m \u001b[0mself\u001b[0m\u001b[0;34m.\u001b[0m\u001b[0m_isnan\u001b[0m \u001b[0;34m|\u001b[0m \u001b[0mo_mask\u001b[0m\u001b[0;34m\u001b[0m\u001b[0;34m\u001b[0m\u001b[0m\n\u001b[0;32m--> 981\u001b[0;31m         \u001b[0;32mif\u001b[0m \u001b[0mmask\u001b[0m\u001b[0;34m.\u001b[0m\u001b[0many\u001b[0m\u001b[0;34m(\u001b[0m\u001b[0;34m)\u001b[0m\u001b[0;34m:\u001b[0m\u001b[0;34m\u001b[0m\u001b[0;34m\u001b[0m\u001b[0m\n\u001b[0m\u001b[1;32m    982\u001b[0m             \u001b[0mnat_result\u001b[0m \u001b[0;34m=\u001b[0m \u001b[0mop\u001b[0m \u001b[0;32mis\u001b[0m \u001b[0moperator\u001b[0m\u001b[0;34m.\u001b[0m\u001b[0mne\u001b[0m\u001b[0;34m\u001b[0m\u001b[0;34m\u001b[0m\u001b[0m\n\u001b[1;32m    983\u001b[0m             \u001b[0mnp\u001b[0m\u001b[0;34m.\u001b[0m\u001b[0mputmask\u001b[0m\u001b[0;34m(\u001b[0m\u001b[0mresult\u001b[0m\u001b[0;34m,\u001b[0m \u001b[0mmask\u001b[0m\u001b[0;34m,\u001b[0m \u001b[0mnat_result\u001b[0m\u001b[0;34m)\u001b[0m\u001b[0;34m\u001b[0m\u001b[0;34m\u001b[0m\u001b[0m\n",
            "\u001b[0;32m/usr/local/lib/python3.10/dist-packages/numpy/core/_methods.py\u001b[0m in \u001b[0;36m_any\u001b[0;34m(a, axis, dtype, out, keepdims, where)\u001b[0m\n\u001b[1;32m     53\u001b[0m     \u001b[0;32mreturn\u001b[0m \u001b[0mumr_prod\u001b[0m\u001b[0;34m(\u001b[0m\u001b[0ma\u001b[0m\u001b[0;34m,\u001b[0m \u001b[0maxis\u001b[0m\u001b[0;34m,\u001b[0m \u001b[0mdtype\u001b[0m\u001b[0;34m,\u001b[0m \u001b[0mout\u001b[0m\u001b[0;34m,\u001b[0m \u001b[0mkeepdims\u001b[0m\u001b[0;34m,\u001b[0m \u001b[0minitial\u001b[0m\u001b[0;34m,\u001b[0m \u001b[0mwhere\u001b[0m\u001b[0;34m)\u001b[0m\u001b[0;34m\u001b[0m\u001b[0;34m\u001b[0m\u001b[0m\n\u001b[1;32m     54\u001b[0m \u001b[0;34m\u001b[0m\u001b[0m\n\u001b[0;32m---> 55\u001b[0;31m \u001b[0;32mdef\u001b[0m \u001b[0m_any\u001b[0m\u001b[0;34m(\u001b[0m\u001b[0ma\u001b[0m\u001b[0;34m,\u001b[0m \u001b[0maxis\u001b[0m\u001b[0;34m=\u001b[0m\u001b[0;32mNone\u001b[0m\u001b[0;34m,\u001b[0m \u001b[0mdtype\u001b[0m\u001b[0;34m=\u001b[0m\u001b[0;32mNone\u001b[0m\u001b[0;34m,\u001b[0m \u001b[0mout\u001b[0m\u001b[0;34m=\u001b[0m\u001b[0;32mNone\u001b[0m\u001b[0;34m,\u001b[0m \u001b[0mkeepdims\u001b[0m\u001b[0;34m=\u001b[0m\u001b[0;32mFalse\u001b[0m\u001b[0;34m,\u001b[0m \u001b[0;34m*\u001b[0m\u001b[0;34m,\u001b[0m \u001b[0mwhere\u001b[0m\u001b[0;34m=\u001b[0m\u001b[0;32mTrue\u001b[0m\u001b[0;34m)\u001b[0m\u001b[0;34m:\u001b[0m\u001b[0;34m\u001b[0m\u001b[0;34m\u001b[0m\u001b[0m\n\u001b[0m\u001b[1;32m     56\u001b[0m     \u001b[0;31m# Parsing keyword arguments is currently fairly slow, so avoid it for now\u001b[0m\u001b[0;34m\u001b[0m\u001b[0;34m\u001b[0m\u001b[0m\n\u001b[1;32m     57\u001b[0m     \u001b[0;32mif\u001b[0m \u001b[0mwhere\u001b[0m \u001b[0;32mis\u001b[0m \u001b[0;32mTrue\u001b[0m\u001b[0;34m:\u001b[0m\u001b[0;34m\u001b[0m\u001b[0;34m\u001b[0m\u001b[0m\n",
            "\u001b[0;31mKeyboardInterrupt\u001b[0m: "
          ]
        }
      ]
    },
    {
      "cell_type": "code",
      "source": [
        "for hour_feature_window in [12, 24, 48, 72]:\n",
        "    print(f\"- Hour Feature Window: {hour_feature_window}\")\n",
        "\n",
        "    for hour_lookahead in [1, 6, 24, 72, 168]:\n",
        "\n",
        "        # skip if already done\n",
        "        if hour_feature_window == 12:\n",
        "            if hour_lookahead in [1, 6, 24, 168]:\n",
        "                print(f\"*Skipping (hour_feature_window, hour_lookahead) = ({hour_feature_window}, {hour_lookahead})\")\n",
        "                continue\n",
        "\n",
        "\n",
        "        print(f\"\\t- Hours Lookahead: {hour_lookahead}\")\n",
        "\n",
        "        targets_dict = identify_future_failures_dict(\n",
        "            df = df,\n",
        "            machine_example_id_col = f'{hour_feature_window}_machine_example_ID',\n",
        "            hours_ahead = hour_lookahead\n",
        "        )\n",
        "        print(\"\\n\")\n",
        "\n",
        "        prevalence = sum(v == 1 for v in targets_dict.values()) / len(targets_dict)\n",
        "        print(f\"\\t\\t- {format(len(targets_dict), ',')} total key-value pairs in targets_dict.\")\n",
        "        print(f\"\\t\\t\\t- Prevalence: {round(100 * prevalence, 2)}%.\")\n",
        "\n",
        "        # remove max order in time window key (there is no subsequent outcome on which to judge its outcome)\n",
        "        max_order_in_time_window = df[f'{hour_feature_window}_order_in_time_window'].max()\n",
        "        targets_dict = {\n",
        "            k: v for k, v in targets_dict.items()\n",
        "            if int(k[6:9]) != max_order_in_time_window\n",
        "        }\n",
        "        prevalence = sum(v == 1 for v in targets_dict.values()) / len(targets_dict)\n",
        "        print(f\"\\t\\t- {format(len(targets_dict), ',')} total key-value pairs in targets_dict.\")\n",
        "        print(f\"\\t\\t\\t- Prevalence: {round(100 * prevalence, 2)}%.\")\n",
        "\n",
        "        # save as JSON\n",
        "        SAVE_FILENAME = f'targets_dict_anyfailure_{hour_feature_window}hrfeaturewindow_{hour_lookahead}hrlookahead.json'\n",
        "        SAVE_LOC = os.path.join(SAVE_DATA_DIR, SAVE_FILENAME)\n",
        "        with open(SAVE_LOC, mode = 'w') as json_f:\n",
        "          json.dump(obj = targets_dict, fp = json_f, indent = 4)\n",
        "        print(f\"\\t\\t*Saved file: {SAVE_FILENAME}\")"
      ],
      "metadata": {
        "colab": {
          "base_uri": "https://localhost:8080/"
        },
        "id": "LzrSJvSpFuVT",
        "outputId": "4d813a3b-ae01-4392-a883-69a4899bcae0"
      },
      "execution_count": null,
      "outputs": [
        {
          "output_type": "stream",
          "name": "stdout",
          "text": [
            "- Hour Feature Window: 12\n",
            "*Skipping (hour_feature_window, hour_lookahead) = (12, 1)\n",
            "*Skipping (hour_feature_window, hour_lookahead) = (12, 6)\n",
            "*Skipping (hour_feature_window, hour_lookahead) = (12, 24)\n",
            "\t- Hours Lookahead: 72\n",
            "1   2   3   4   5   6   7   8   9   10   11   12   13   14   15   16   17   18   19   20   21   22   23   24   25   26   27   28   29   30   31   32   33   34   35   36   37   38   39   40   41   42   43   44   45   46   47   48   49   50   51   52   53   54   55   56   57   58   59   60   61   62   63   64   65   66   67   68   69   70   71   72   73   74   75   76   77   78   79   80   81   82   83   84   85   86   87   88   89   90   91   92   93   94   95   96   97   98   99   100   \n",
            "\n",
            "\t\t- 73,100 total key-value pairs in targets_dict.\n",
            "\t\t\t- Prevalence: 5.77%.\n",
            "\t\t- 73,000 total key-value pairs in targets_dict.\n",
            "\t\t\t- Prevalence: 5.77%.\n",
            "\t\t*Saved file: targets_dict_anyfailure_12hrfeaturewindow_72hrlookahead.json\n",
            "*Skipping (hour_feature_window, hour_lookahead) = (12, 168)\n",
            "- Hour Feature Window: 24\n",
            "\t- Hours Lookahead: 1\n",
            "1   2   3   4   5   6   7   8   9   10   11   12   13   14   15   16   17   18   19   20   21   22   23   24   25   26   27   28   29   30   31   32   33   34   35   36   37   38   39   40   41   42   43   44   45   46   47   48   49   50   51   52   53   54   55   56   57   58   59   60   61   62   63   64   65   66   67   68   69   70   71   72   73   74   75   76   77   78   79   80   81   82   83   84   85   86   87   88   89   90   91   92   93   94   95   96   97   98   99   100   \n",
            "\n",
            "\t\t- 36,600 total key-value pairs in targets_dict.\n",
            "\t\t\t- Prevalence: 1.92%.\n",
            "\t\t- 36,500 total key-value pairs in targets_dict.\n",
            "\t\t\t- Prevalence: 1.92%.\n",
            "\t\t*Saved file: targets_dict_anyfailure_24hrfeaturewindow_1hrlookahead.json\n",
            "\t- Hours Lookahead: 6\n",
            "1   2   3   4   5   6   7   8   9   10   11   12   13   14   15   16   17   18   19   20   21   22   23   24   25   26   27   28   29   30   31   32   33   34   35   36   37   38   39   40   41   42   43   44   45   46   47   48   49   50   51   52   53   54   55   56   57   58   59   60   61   62   63   64   65   66   67   68   69   70   71   72   73   74   75   76   77   78   79   80   81   82   83   84   85   86   87   88   89   90   91   92   93   94   95   96   97   98   99   100   \n",
            "\n",
            "\t\t- 36,600 total key-value pairs in targets_dict.\n",
            "\t\t\t- Prevalence: 1.92%.\n",
            "\t\t- 36,500 total key-value pairs in targets_dict.\n",
            "\t\t\t- Prevalence: 1.92%.\n",
            "\t\t*Saved file: targets_dict_anyfailure_24hrfeaturewindow_6hrlookahead.json\n",
            "\t- Hours Lookahead: 24\n",
            "1   2   3   4   5   6   7   8   9   10   11   12   13   14   15   16   17   18   19   20   21   22   23   24   25   26   27   28   29   30   31   32   33   34   35   36   37   38   39   40   41   42   43   44   45   46   47   48   49   50   51   52   53   54   55   56   57   58   59   60   61   62   63   64   65   66   67   68   69   70   71   72   73   74   75   76   77   78   79   80   81   82   83   84   85   86   87   88   89   90   91   92   93   94   95   96   97   98   99   100   \n",
            "\n",
            "\t\t- 36,600 total key-value pairs in targets_dict.\n",
            "\t\t\t- Prevalence: 1.92%.\n",
            "\t\t- 36,500 total key-value pairs in targets_dict.\n",
            "\t\t\t- Prevalence: 1.92%.\n",
            "\t\t*Saved file: targets_dict_anyfailure_24hrfeaturewindow_24hrlookahead.json\n",
            "\t- Hours Lookahead: 72\n",
            "1   2   3   4   5   6   7   8   9   10   11   12   13   14   15   16   17   18   19   20   21   22   23   24   25   26   27   28   29   30   31   32   33   34   35   36   37   38   39   40   41   42   43   44   45   46   47   48   49   50   51   52   53   54   55   56   57   58   59   60   61   62   63   64   65   66   67   68   69   70   71   72   73   74   75   76   77   78   79   80   81   82   83   84   85   86   87   88   89   90   91   92   93   94   95   96   97   98   99   100   \n",
            "\n",
            "\t\t- 36,600 total key-value pairs in targets_dict.\n",
            "\t\t\t- Prevalence: 5.74%.\n",
            "\t\t- 36,500 total key-value pairs in targets_dict.\n",
            "\t\t\t- Prevalence: 5.75%.\n",
            "\t\t*Saved file: targets_dict_anyfailure_24hrfeaturewindow_72hrlookahead.json\n",
            "\t- Hours Lookahead: 168\n",
            "1   2   3   4   5   6   7   8   9   10   11   12   13   14   15   16   17   18   19   20   21   22   23   24   25   26   27   28   29   30   31   32   33   34   35   36   37   38   39   40   41   42   43   44   45   46   47   48   49   50   51   52   53   54   55   56   57   58   59   60   61   62   63   64   65   66   67   68   69   70   71   72   73   74   75   76   77   78   79   80   81   82   83   84   85   86   87   88   89   90   91   92   93   94   95   96   97   98   99   100   \n",
            "\n",
            "\t\t- 36,600 total key-value pairs in targets_dict.\n",
            "\t\t\t- Prevalence: 13.29%.\n",
            "\t\t- 36,500 total key-value pairs in targets_dict.\n",
            "\t\t\t- Prevalence: 13.29%.\n",
            "\t\t*Saved file: targets_dict_anyfailure_24hrfeaturewindow_168hrlookahead.json\n",
            "- Hour Feature Window: 48\n",
            "\t- Hours Lookahead: 1\n",
            "1   2   3   4   5   6   7   8   9   10   11   12   13   14   15   16   17   18   19   20   21   22   23   24   25   26   27   28   29   30   31   32   33   34   35   36   37   38   39   40   41   42   43   44   45   46   47   48   49   50   51   52   53   54   55   56   57   58   59   60   61   62   63   64   65   66   67   68   69   70   71   72   73   74   75   76   77   78   79   80   81   82   83   84   85   86   87   88   89   90   91   92   93   94   95   96   97   98   99   100   \n",
            "\n",
            "\t\t- 18,300 total key-value pairs in targets_dict.\n",
            "\t\t\t- Prevalence: 1.94%.\n",
            "\t\t- 18,200 total key-value pairs in targets_dict.\n",
            "\t\t\t- Prevalence: 1.94%.\n",
            "\t\t*Saved file: targets_dict_anyfailure_48hrfeaturewindow_1hrlookahead.json\n",
            "\t- Hours Lookahead: 6\n",
            "1   2   3   4   5   6   7   8   9   10   11   12   13   14   15   16   17   18   19   20   21   22   23   24   25   26   27   28   29   30   31   32   33   34   35   36   37   38   39   40   41   42   43   44   45   46   47   48   49   50   51   52   53   54   55   56   57   58   59   60   61   62   63   64   65   66   67   68   69   70   71   72   73   74   75   76   77   78   79   80   81   82   83   84   85   86   87   88   89   90   91   92   93   94   95   96   97   98   99   100   \n",
            "\n",
            "\t\t- 18,300 total key-value pairs in targets_dict.\n",
            "\t\t\t- Prevalence: 1.94%.\n",
            "\t\t- 18,200 total key-value pairs in targets_dict.\n",
            "\t\t\t- Prevalence: 1.94%.\n",
            "\t\t*Saved file: targets_dict_anyfailure_48hrfeaturewindow_6hrlookahead.json\n",
            "\t- Hours Lookahead: 24\n",
            "1   2   3   4   5   6   7   8   9   10   11   12   13   14   15   16   17   18   19   20   21   22   23   24   25   26   27   28   29   30   31   32   33   34   35   36   37   38   39   40   41   42   43   44   45   46   47   48   49   50   51   52   53   54   55   56   57   58   59   60   61   62   63   64   65   66   67   68   69   70   71   72   73   74   75   76   77   78   79   80   81   82   83   84   85   86   87   88   89   90   91   92   93   94   95   96   97   98   99   100   \n",
            "\n",
            "\t\t- 18,300 total key-value pairs in targets_dict.\n",
            "\t\t\t- Prevalence: 1.94%.\n",
            "\t\t- 18,200 total key-value pairs in targets_dict.\n",
            "\t\t\t- Prevalence: 1.94%.\n",
            "\t\t*Saved file: targets_dict_anyfailure_48hrfeaturewindow_24hrlookahead.json\n",
            "\t- Hours Lookahead: 72\n",
            "1   2   3   4   5   6   7   8   9   10   11   12   13   14   15   16   17   18   19   20   21   22   23   24   25   26   27   28   29   30   31   32   33   34   35   36   37   38   39   40   41   42   43   44   45   46   47   48   49   50   51   52   53   54   55   56   57   58   59   60   61   62   63   64   65   66   67   68   69   70   71   72   73   74   75   76   77   78   79   80   81   82   83   84   85   86   87   88   89   90   91   92   93   94   95   96   97   98   99   100   \n",
            "\n",
            "\t\t- 18,300 total key-value pairs in targets_dict.\n",
            "\t\t\t- Prevalence: 5.76%.\n",
            "\t\t- 18,200 total key-value pairs in targets_dict.\n",
            "\t\t\t- Prevalence: 5.76%.\n",
            "\t\t*Saved file: targets_dict_anyfailure_48hrfeaturewindow_72hrlookahead.json\n",
            "\t- Hours Lookahead: 168\n",
            "1   2   3   4   5   6   7   8   9   10   11   12   13   14   15   16   17   18   19   20   21   22   23   24   25   26   27   28   29   30   31   32   33   34   35   36   37   38   39   40   41   42   43   44   45   46   47   48   49   50   51   52   53   54   55   56   57   58   59   60   61   62   63   64   65   66   67   68   69   70   71   72   73   74   75   76   77   78   79   80   81   82   83   84   85   86   87   88   89   90   91   92   93   94   95   96   97   98   99   100   \n",
            "\n",
            "\t\t- 18,300 total key-value pairs in targets_dict.\n",
            "\t\t\t- Prevalence: 13.29%.\n",
            "\t\t- 18,200 total key-value pairs in targets_dict.\n",
            "\t\t\t- Prevalence: 13.32%.\n",
            "\t\t*Saved file: targets_dict_anyfailure_48hrfeaturewindow_168hrlookahead.json\n",
            "- Hour Feature Window: 72\n",
            "\t- Hours Lookahead: 1\n",
            "1   2   3   4   5   6   7   8   9   10   11   12   13   14   15   16   17   18   19   20   21   22   23   24   25   26   27   28   29   30   31   32   33   34   35   36   37   38   39   40   41   42   43   44   45   46   47   48   49   50   51   52   53   54   55   56   57   58   59   60   61   62   63   64   65   66   67   68   69   70   71   72   73   74   75   76   77   78   79   80   81   82   83   84   85   86   87   88   89   90   91   92   93   94   95   96   97   98   99   100   \n",
            "\n",
            "\t\t- 12,200 total key-value pairs in targets_dict.\n",
            "\t\t\t- Prevalence: 2.07%.\n",
            "\t\t- 12,100 total key-value pairs in targets_dict.\n",
            "\t\t\t- Prevalence: 2.08%.\n",
            "\t\t*Saved file: targets_dict_anyfailure_72hrfeaturewindow_1hrlookahead.json\n",
            "\t- Hours Lookahead: 6\n",
            "1   2   3   4   5   6   7   8   9   10   11   12   13   14   15   16   17   18   19   20   21   22   23   24   25   26   27   28   29   30   31   32   33   34   35   36   37   38   39   40   41   42   43   44   45   46   47   48   49   50   51   52   53   54   55   56   57   58   59   60   61   62   63   64   65   66   67   68   69   70   71   72   73   74   75   76   77   78   79   80   81   82   83   84   85   86   87   88   89   90   91   92   93   94   95   96   97   98   99   100   \n",
            "\n",
            "\t\t- 12,200 total key-value pairs in targets_dict.\n",
            "\t\t\t- Prevalence: 2.07%.\n",
            "\t\t- 12,100 total key-value pairs in targets_dict.\n",
            "\t\t\t- Prevalence: 2.08%.\n",
            "\t\t*Saved file: targets_dict_anyfailure_72hrfeaturewindow_6hrlookahead.json\n",
            "\t- Hours Lookahead: 24\n",
            "1   2   3   4   5   6   7   8   9   10   11   12   13   14   15   16   17   18   19   20   21   22   23   24   25   26   27   28   29   30   31   32   33   34   35   36   37   38   39   40   41   42   43   44   45   46   47   48   49   50   51   52   53   54   55   56   57   58   59   60   61   62   63   64   65   66   67   68   69   70   71   72   73   74   75   76   77   78   79   80   81   82   83   84   85   86   87   88   89   90   91   92   93   94   95   96   97   98   99   100   \n",
            "\n",
            "\t\t- 12,200 total key-value pairs in targets_dict.\n",
            "\t\t\t- Prevalence: 2.07%.\n",
            "\t\t- 12,100 total key-value pairs in targets_dict.\n",
            "\t\t\t- Prevalence: 2.08%.\n",
            "\t\t*Saved file: targets_dict_anyfailure_72hrfeaturewindow_24hrlookahead.json\n",
            "\t- Hours Lookahead: 72\n",
            "1   2   3   4   5   6   7   8   9   10   11   12   13   14   15   16   17   18   19   20   21   22   23   24   25   26   27   28   29   30   31   32   33   34   35   36   37   38   39   40   41   42   43   44   45   46   47   48   49   50   51   52   53   54   55   56   57   58   59   60   61   62   63   64   65   66   67   68   69   70   71   72   73   74   75   76   77   78   79   80   81   82   83   84   85   86   87   88   89   90   91   92   93   94   95   96   97   98   99   100   \n",
            "\n",
            "\t\t- 12,200 total key-value pairs in targets_dict.\n",
            "\t\t\t- Prevalence: 5.73%.\n",
            "\t\t- 12,100 total key-value pairs in targets_dict.\n",
            "\t\t\t- Prevalence: 5.74%.\n",
            "\t\t*Saved file: targets_dict_anyfailure_72hrfeaturewindow_72hrlookahead.json\n",
            "\t- Hours Lookahead: 168\n",
            "1   2   3   4   5   6   7   8   9   10   11   12   13   14   15   16   17   18   19   20   21   22   23   24   25   26   27   28   29   30   31   32   33   34   35   36   37   38   39   40   41   42   43   44   45   46   47   48   49   50   51   52   53   54   55   56   57   58   59   60   61   62   63   64   65   66   67   68   69   70   71   72   73   74   75   76   77   78   79   80   81   82   83   84   85   86   87   88   89   90   91   92   93   94   95   96   97   98   99   100   \n",
            "\n",
            "\t\t- 12,200 total key-value pairs in targets_dict.\n",
            "\t\t\t- Prevalence: 13.41%.\n",
            "\t\t- 12,100 total key-value pairs in targets_dict.\n",
            "\t\t\t- Prevalence: 13.45%.\n",
            "\t\t*Saved file: targets_dict_anyfailure_72hrfeaturewindow_168hrlookahead.json\n"
          ]
        }
      ]
    },
    {
      "cell_type": "markdown",
      "source": [
        "##### 2.1) Create Targets for 12 Hour Window Features"
      ],
      "metadata": {
        "id": "fhC3xcKD-Nel"
      }
    },
    {
      "cell_type": "markdown",
      "source": [
        "###### 2.1.1) 12 Hour Window Features, 1 Hour Lookahead"
      ],
      "metadata": {
        "id": "JoyGujLZ-pFm"
      }
    },
    {
      "cell_type": "code",
      "source": [
        "targets_dict = identify_future_failures_dict(\n",
        "    df = df,\n",
        "    machine_example_id_col = '12_machine_example_ID',\n",
        "    hours_ahead = 1\n",
        ")\n",
        "\n",
        "prevalence = sum(v == 1 for v in targets_dict.values()) / len(targets_dict)\n",
        "print(f\"- {format(len(targets_dict), ',')} total key-value pairs in targets_dict.\")\n",
        "print(f\"\\t- Prevalence: {round(100 * prevalence, 2)}%.\")"
      ],
      "metadata": {
        "id": "WFQfDzow-M8V"
      },
      "execution_count": null,
      "outputs": []
    },
    {
      "cell_type": "code",
      "source": [
        "# remove max order in time window key (there is no subsequent outcome on which to judge its outcome)\n",
        "max_order_in_time_window = df['12_order_in_time_window'].max()\n",
        "targets_dict = {\n",
        "    k: v for k, v in targets_dict.items()\n",
        "    if int(k[6:9]) != max_order_in_time_window\n",
        "}\n",
        "\n",
        "prevalence = sum(v == 1 for v in targets_dict.values()) / len(targets_dict)\n",
        "print(f\"- {format(len(targets_dict), ',')} total key-value pairs in targets_dict.\")\n",
        "print(f\"\\t- Prevalence: {round(100 * prevalence, 2)}%.\")"
      ],
      "metadata": {
        "id": "XNeMMqQU_eSu"
      },
      "execution_count": null,
      "outputs": []
    },
    {
      "cell_type": "code",
      "source": [
        "SAVE_FILENAME = 'targets_dict_anyfailure_12hrfeaturewindow_1hrlookahead.json'\n",
        "SAVE_LOC = os.path.join(SAVE_DATA_DIR, SAVE_FILENAME)\n",
        "\n",
        "with open(SAVE_LOC, mode = 'w') as json_f:\n",
        "  json.dump(obj = targets_dict, fp = json_f, indent = 4)"
      ],
      "metadata": {
        "id": "2AB9TQPA_Pae"
      },
      "execution_count": null,
      "outputs": []
    },
    {
      "cell_type": "markdown",
      "source": [
        "###### 2.1.2) 12 Hour Window Features, 6 Hour Lookahead"
      ],
      "metadata": {
        "id": "cv0k01eU-ufE"
      }
    },
    {
      "cell_type": "code",
      "source": [],
      "metadata": {
        "id": "aAkAquzHAfLk"
      },
      "execution_count": null,
      "outputs": []
    },
    {
      "cell_type": "code",
      "source": [],
      "metadata": {
        "id": "vXb-Faz2AfN0"
      },
      "execution_count": null,
      "outputs": []
    },
    {
      "cell_type": "code",
      "source": [],
      "metadata": {
        "id": "-fYjIY5uAfQV"
      },
      "execution_count": null,
      "outputs": []
    },
    {
      "cell_type": "markdown",
      "source": [
        "###### 2.1.3) 12 Hour Window Features, 24 Hour Lookahead"
      ],
      "metadata": {
        "id": "RBo79pRa-uqy"
      }
    },
    {
      "cell_type": "code",
      "source": [],
      "metadata": {
        "id": "iGWLgizXAfwF"
      },
      "execution_count": null,
      "outputs": []
    },
    {
      "cell_type": "code",
      "source": [],
      "metadata": {
        "id": "RF7UBtIdAfyE"
      },
      "execution_count": null,
      "outputs": []
    },
    {
      "cell_type": "code",
      "source": [],
      "metadata": {
        "id": "ole-W-lJAf0u"
      },
      "execution_count": null,
      "outputs": []
    },
    {
      "cell_type": "markdown",
      "source": [
        "###### 2.1.4) 12 Hour Window Features, 96 Hour Lookahead"
      ],
      "metadata": {
        "id": "Nd-LEr7s-uv8"
      }
    },
    {
      "cell_type": "code",
      "source": [],
      "metadata": {
        "id": "Ka74jNsbAgiH"
      },
      "execution_count": null,
      "outputs": []
    },
    {
      "cell_type": "code",
      "source": [],
      "metadata": {
        "id": "2unM0Ov8Agj-"
      },
      "execution_count": null,
      "outputs": []
    },
    {
      "cell_type": "code",
      "source": [],
      "metadata": {
        "id": "Jb7zUWARAgmr"
      },
      "execution_count": null,
      "outputs": []
    },
    {
      "cell_type": "markdown",
      "source": [
        "###### 2.1.5) 12 Hour Window Features, 168 Hour Lookahead"
      ],
      "metadata": {
        "id": "v92HFaZ7-4Gk"
      }
    },
    {
      "cell_type": "code",
      "source": [],
      "metadata": {
        "id": "AwmZ8g8l-atj"
      },
      "execution_count": null,
      "outputs": []
    },
    {
      "cell_type": "code",
      "source": [],
      "metadata": {
        "id": "GeMMIBgY-M-t"
      },
      "execution_count": null,
      "outputs": []
    },
    {
      "cell_type": "code",
      "source": [],
      "metadata": {
        "id": "c3vxHn3s-NA1"
      },
      "execution_count": null,
      "outputs": []
    },
    {
      "cell_type": "markdown",
      "source": [
        "##### 2.2) Create Targets for 24 Hour Window Features"
      ],
      "metadata": {
        "id": "EjZYszFJ-Ufk"
      }
    },
    {
      "cell_type": "markdown",
      "source": [
        "###### 2.2.1) 24 Hour Window Features, 1 Hour Lookahead"
      ],
      "metadata": {
        "id": "UUM4ycMIAs74"
      }
    },
    {
      "cell_type": "code",
      "source": [
        "targets_dict = identify_future_failures_dict(\n",
        "    df = df,\n",
        "    machine_example_id_col = '24_machine_example_ID',\n",
        "    hours_ahead = 1\n",
        ")\n",
        "\n",
        "prevalence = sum(v == 1 for v in targets_dict.values()) / len(targets_dict)\n",
        "print(f\"- {format(len(targets_dict), ',')} total key-value pairs in targets_dict.\")\n",
        "print(f\"\\t- Prevalence: {round(100 * prevalence, 2)}%.\")"
      ],
      "metadata": {
        "id": "VdndK34rBBiE"
      },
      "execution_count": null,
      "outputs": []
    },
    {
      "cell_type": "code",
      "source": [],
      "metadata": {
        "id": "ZzQ-KqgBBBkX"
      },
      "execution_count": null,
      "outputs": []
    },
    {
      "cell_type": "code",
      "source": [],
      "metadata": {
        "id": "Ig6U2pCrBBm0"
      },
      "execution_count": null,
      "outputs": []
    },
    {
      "cell_type": "markdown",
      "source": [
        "###### 2.2.2) 24 Hour Window Features, 6 Hour Lookahead"
      ],
      "metadata": {
        "id": "W8HNCpB-AtHm"
      }
    },
    {
      "cell_type": "code",
      "source": [
        "targets_dict = identify_future_failures_dict(\n",
        "    df = df,\n",
        "    machine_example_id_col = '24_machine_example_ID',\n",
        "    hours_ahead = 6\n",
        ")\n",
        "\n",
        "prevalence = sum(v == 1 for v in targets_dict.values()) / len(targets_dict)\n",
        "print(f\"- {format(len(targets_dict), ',')} total key-value pairs in targets_dict.\")\n",
        "print(f\"\\t- Prevalence: {round(100 * prevalence, 2)}%.\")"
      ],
      "metadata": {
        "id": "cP31E7jnBCQ0"
      },
      "execution_count": null,
      "outputs": []
    },
    {
      "cell_type": "code",
      "source": [],
      "metadata": {
        "id": "vYx99G1UBCS9"
      },
      "execution_count": null,
      "outputs": []
    },
    {
      "cell_type": "code",
      "source": [],
      "metadata": {
        "id": "9EKcbpq3BCVm"
      },
      "execution_count": null,
      "outputs": []
    },
    {
      "cell_type": "markdown",
      "source": [
        "###### 2.2.3) 24 Hour Window Features, 24 Hour Lookahead"
      ],
      "metadata": {
        "id": "LD5_2s8qAtTH"
      }
    },
    {
      "cell_type": "code",
      "source": [
        "targets_dict = identify_future_failures_dict(\n",
        "    df = df,\n",
        "    machine_example_id_col = '24_machine_example_ID',\n",
        "    hours_ahead = 24\n",
        ")\n",
        "\n",
        "prevalence = sum(v == 1 for v in targets_dict.values()) / len(targets_dict)\n",
        "print(f\"- {format(len(targets_dict), ',')} total key-value pairs in targets_dict.\")\n",
        "print(f\"\\t- Prevalence: {round(100 * prevalence, 2)}%.\")"
      ],
      "metadata": {
        "id": "ECJGq6-IBC3t"
      },
      "execution_count": null,
      "outputs": []
    },
    {
      "cell_type": "code",
      "source": [],
      "metadata": {
        "id": "DnjOrSr-BC5s"
      },
      "execution_count": null,
      "outputs": []
    },
    {
      "cell_type": "code",
      "source": [],
      "metadata": {
        "id": "pYNgcfTgBC8E"
      },
      "execution_count": null,
      "outputs": []
    },
    {
      "cell_type": "markdown",
      "source": [
        "###### 2.2.4) 24 Hour Window Features, 96 Hour Lookahead"
      ],
      "metadata": {
        "id": "iSBVC2d0AtVn"
      }
    },
    {
      "cell_type": "code",
      "source": [
        "targets_dict = identify_future_failures_dict(\n",
        "    df = df,\n",
        "    machine_example_id_col = '24_machine_example_ID',\n",
        "    hours_ahead = 96\n",
        ")\n",
        "\n",
        "prevalence = sum(v == 1 for v in targets_dict.values()) / len(targets_dict)\n",
        "print(f\"- {format(len(targets_dict), ',')} total key-value pairs in targets_dict.\")\n",
        "print(f\"\\t- Prevalence: {round(100 * prevalence, 2)}%.\")"
      ],
      "metadata": {
        "id": "paKxwRzpBDhM"
      },
      "execution_count": null,
      "outputs": []
    },
    {
      "cell_type": "code",
      "source": [],
      "metadata": {
        "id": "4BMHS6hUBDjL"
      },
      "execution_count": null,
      "outputs": []
    },
    {
      "cell_type": "code",
      "source": [],
      "metadata": {
        "id": "VzoEp93CBDlt"
      },
      "execution_count": null,
      "outputs": []
    },
    {
      "cell_type": "markdown",
      "source": [
        "###### 2.2.5) 24 Hour Window Features, 168 Hour Lookahead"
      ],
      "metadata": {
        "id": "a5Wx3hBrAtYC"
      }
    },
    {
      "cell_type": "code",
      "source": [
        "targets_dict = identify_future_failures_dict(\n",
        "    df = df,\n",
        "    machine_example_id_col = '24_machine_example_ID',\n",
        "    hours_ahead = 168\n",
        ")\n",
        "\n",
        "prevalence = sum(v == 1 for v in targets_dict.values()) / len(targets_dict)\n",
        "print(f\"- {format(len(targets_dict), ',')} total key-value pairs in targets_dict.\")\n",
        "print(f\"\\t- Prevalence: {round(100 * prevalence, 2)}%.\")"
      ],
      "metadata": {
        "id": "rBd3LP31BFSV"
      },
      "execution_count": null,
      "outputs": []
    },
    {
      "cell_type": "code",
      "source": [],
      "metadata": {
        "id": "tqSDTGSQBFUM"
      },
      "execution_count": null,
      "outputs": []
    },
    {
      "cell_type": "code",
      "source": [],
      "metadata": {
        "id": "F7mpnOaqBFWl"
      },
      "execution_count": null,
      "outputs": []
    },
    {
      "cell_type": "markdown",
      "source": [
        "##### 2.3) Create Targets for 48 Hour Window Features"
      ],
      "metadata": {
        "id": "JTrKbVeL-WC1"
      }
    },
    {
      "cell_type": "markdown",
      "source": [
        "###### 2.3.1) 48 Hour Window Features, 1 Hour Lookahead"
      ],
      "metadata": {
        "id": "lXcOYL0QBGB1"
      }
    },
    {
      "cell_type": "code",
      "source": [],
      "metadata": {
        "id": "-VGjVfbZBSYK"
      },
      "execution_count": null,
      "outputs": []
    },
    {
      "cell_type": "code",
      "source": [],
      "metadata": {
        "id": "TM2ebICUBSbF"
      },
      "execution_count": null,
      "outputs": []
    },
    {
      "cell_type": "code",
      "source": [],
      "metadata": {
        "id": "OLcoyWQRBSdk"
      },
      "execution_count": null,
      "outputs": []
    },
    {
      "cell_type": "markdown",
      "source": [
        "###### 2.3.2) 48 Hour Window Features, 6 Hour Lookahead"
      ],
      "metadata": {
        "id": "z5HiBSM-BGD2"
      }
    },
    {
      "cell_type": "code",
      "source": [],
      "metadata": {
        "id": "alwx7bYYBTGk"
      },
      "execution_count": null,
      "outputs": []
    },
    {
      "cell_type": "code",
      "source": [],
      "metadata": {
        "id": "EiKHqX4BBTIe"
      },
      "execution_count": null,
      "outputs": []
    },
    {
      "cell_type": "code",
      "source": [],
      "metadata": {
        "id": "6Xtn-LPtBTKs"
      },
      "execution_count": null,
      "outputs": []
    },
    {
      "cell_type": "markdown",
      "source": [
        "###### 2.3.3) 48 Hour Window Features, 24 Hour Lookahead"
      ],
      "metadata": {
        "id": "QYmIWptgBGGE"
      }
    },
    {
      "cell_type": "code",
      "source": [],
      "metadata": {
        "id": "pPEAijBzBTtw"
      },
      "execution_count": null,
      "outputs": []
    },
    {
      "cell_type": "code",
      "source": [],
      "metadata": {
        "id": "hIAzBdI1BTvs"
      },
      "execution_count": null,
      "outputs": []
    },
    {
      "cell_type": "code",
      "source": [],
      "metadata": {
        "id": "na-aZQlGBTyO"
      },
      "execution_count": null,
      "outputs": []
    },
    {
      "cell_type": "markdown",
      "source": [
        "###### 2.3.4) 48 Hour Window Features, 96 Hour Lookahead"
      ],
      "metadata": {
        "id": "ApIaZC8KBGIN"
      }
    },
    {
      "cell_type": "code",
      "source": [],
      "metadata": {
        "id": "sA9QMUw0BUX-"
      },
      "execution_count": null,
      "outputs": []
    },
    {
      "cell_type": "code",
      "source": [],
      "metadata": {
        "id": "42dWFHmjBUai"
      },
      "execution_count": null,
      "outputs": []
    },
    {
      "cell_type": "code",
      "source": [],
      "metadata": {
        "id": "cEp2dM6BBUc5"
      },
      "execution_count": null,
      "outputs": []
    },
    {
      "cell_type": "markdown",
      "source": [
        "###### 2.3.5) 48 Hour Window Features, 168 Hour Lookahead"
      ],
      "metadata": {
        "id": "t8gaeCXVBGKc"
      }
    },
    {
      "cell_type": "code",
      "source": [],
      "metadata": {
        "id": "0oPoVneuBVID"
      },
      "execution_count": null,
      "outputs": []
    },
    {
      "cell_type": "code",
      "source": [],
      "metadata": {
        "id": "sN8U0pGZBVKE"
      },
      "execution_count": null,
      "outputs": []
    },
    {
      "cell_type": "code",
      "source": [],
      "metadata": {
        "id": "EACJUdAcBVMX"
      },
      "execution_count": null,
      "outputs": []
    },
    {
      "cell_type": "markdown",
      "source": [
        "##### 2.4) Create Targets for 72 Hour Window Features"
      ],
      "metadata": {
        "id": "kjdjsIhD-WE8"
      }
    },
    {
      "cell_type": "markdown",
      "source": [
        "###### 2.4.1) 72 Hour Window Features, 1 Hour Lookahead"
      ],
      "metadata": {
        "id": "J5hKxDcHBZp-"
      }
    },
    {
      "cell_type": "code",
      "source": [],
      "metadata": {
        "id": "8x_QPRpfBrBT"
      },
      "execution_count": null,
      "outputs": []
    },
    {
      "cell_type": "code",
      "source": [],
      "metadata": {
        "id": "7QIy2r_3BrDT"
      },
      "execution_count": null,
      "outputs": []
    },
    {
      "cell_type": "code",
      "source": [],
      "metadata": {
        "id": "F9AcsZ9UBrFo"
      },
      "execution_count": null,
      "outputs": []
    },
    {
      "cell_type": "markdown",
      "source": [
        "###### 2.4.2) 72 Hour Window Features, 6 Hour Lookahead"
      ],
      "metadata": {
        "id": "pETWkZNZBZsG"
      }
    },
    {
      "cell_type": "code",
      "source": [],
      "metadata": {
        "id": "AnV33CitBsDv"
      },
      "execution_count": null,
      "outputs": []
    },
    {
      "cell_type": "code",
      "source": [],
      "metadata": {
        "id": "aUBkVV6IBsFn"
      },
      "execution_count": null,
      "outputs": []
    },
    {
      "cell_type": "code",
      "source": [],
      "metadata": {
        "id": "IdH2t9NjBsHR"
      },
      "execution_count": null,
      "outputs": []
    },
    {
      "cell_type": "markdown",
      "source": [
        "###### 2.4.3) 72 Hour Window Features, 24 Hour Lookahead"
      ],
      "metadata": {
        "id": "VqTM0ZxZBZuL"
      }
    },
    {
      "cell_type": "code",
      "source": [],
      "metadata": {
        "id": "22daVbmGBrlM"
      },
      "execution_count": null,
      "outputs": []
    },
    {
      "cell_type": "code",
      "source": [],
      "metadata": {
        "id": "j1HZRw3wBrnm"
      },
      "execution_count": null,
      "outputs": []
    },
    {
      "cell_type": "code",
      "source": [],
      "metadata": {
        "id": "8_zCDMHrBrpj"
      },
      "execution_count": null,
      "outputs": []
    },
    {
      "cell_type": "markdown",
      "source": [
        "###### 2.4.4) 72 Hour Window Features, 96 Hour Lookahead"
      ],
      "metadata": {
        "id": "cPPH0IQwBZwT"
      }
    },
    {
      "cell_type": "code",
      "source": [],
      "metadata": {
        "id": "KDNb5GKSBqoU"
      },
      "execution_count": null,
      "outputs": []
    },
    {
      "cell_type": "code",
      "source": [],
      "metadata": {
        "id": "ZHXwty13Bqqb"
      },
      "execution_count": null,
      "outputs": []
    },
    {
      "cell_type": "code",
      "source": [],
      "metadata": {
        "id": "WsinjYRFBqsj"
      },
      "execution_count": null,
      "outputs": []
    },
    {
      "cell_type": "markdown",
      "source": [
        "###### 2.4.5) 72 Hour Window Features, 168 Hour Lookahead"
      ],
      "metadata": {
        "id": "I7MVCBmoBZy3"
      }
    },
    {
      "cell_type": "code",
      "source": [],
      "metadata": {
        "id": "y51HCjUK-NI3"
      },
      "execution_count": null,
      "outputs": []
    },
    {
      "cell_type": "code",
      "source": [],
      "metadata": {
        "id": "Je8nzrvv-NLA"
      },
      "execution_count": null,
      "outputs": []
    },
    {
      "cell_type": "code",
      "source": [],
      "metadata": {
        "id": "5jz9MLMN8qhz"
      },
      "execution_count": null,
      "outputs": []
    }
  ]
}